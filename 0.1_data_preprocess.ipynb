{
 "cells": [
  {
   "cell_type": "markdown",
   "id": "7b9dff82",
   "metadata": {},
   "source": [
    "# Combine Labels"
   ]
  },
  {
   "cell_type": "code",
   "execution_count": 1,
   "id": "8b8cc8af",
   "metadata": {},
   "outputs": [
    {
     "name": "stdout",
     "output_type": "stream",
     "text": [
      "Patient Patient19 too large: (231, 292, 430)\n",
      "Patient Patient2 label shape error: (138, 123, 151) vs (138, 123, 200)\n",
      "Patient Patient21 label missing\n",
      "Patient Patient22 label missing\n",
      "Patient Patient23 label missing\n",
      "Patient Patient24 label missing\n",
      "Patient Patient25 label missing\n",
      "Patient Patient27 label missing\n",
      "Patient Patient28 label missing\n",
      "Patient Patient29 label missing\n",
      "Patient Patient30 label missing\n",
      "Patient Patient31 label missing\n",
      "Patient Patient4 label shape error: (152, 157, 171) vs (152, 157, 95)\n",
      "Patient Patient7 label shape error: (126, 135, 147) vs (512, 512, 239)\n"
     ]
    }
   ],
   "source": [
    "# import and constant\n",
    "import os\n",
    "import numpy as np\n",
    "import nibabel as nib\n",
    "from utils.nrrd2nii import nrrd2nii\n",
    "\n",
    "source_path = \"data/uwa_aaa\"\n",
    "combined_path = \"data/uwa_aaa_combined\"\n",
    "\n",
    "os.makedirs(combined_path, exist_ok=True)\n",
    "\n",
    "for patient_folder in sorted(os.listdir(source_path)):\n",
    "    patient_path = os.path.join(source_path, patient_folder)\n",
    "    aaa_label = None\n",
    "    blood_label = None\n",
    "    for root, dirs, files in os.walk(patient_path):\n",
    "        for file in files:\n",
    "            if file == \"CT_AAA_label.nrrd\":\n",
    "                aaa_label = nrrd2nii(os.path.join(root, file)).get_fdata()\n",
    "\n",
    "                assert (\n",
    "                    len(np.unique(aaa_label)) == 2\n",
    "                ), f\"Patient {patient_folder} label error\"\n",
    "\n",
    "                highest_label = np.max(aaa_label)\n",
    "                aaa_label[aaa_label == highest_label] = 1\n",
    "\n",
    "            if file == \"CT_blood_label.nrrd\":\n",
    "                blood_label = nrrd2nii(os.path.join(root, file)).get_fdata()\n",
    "                \n",
    "                assert (\n",
    "                    len(np.unique(blood_label)) == 2\n",
    "                ), f\"Patient {patient_folder} label error\"\n",
    "\n",
    "                highest_label = np.max(blood_label)\n",
    "                blood_label[blood_label == highest_label] = 1\n",
    "\n",
    "    if (aaa_label is None) or (blood_label is None):\n",
    "        print(f\"Patient {patient_folder} label missing\")\n",
    "        continue\n",
    "\n",
    "    if aaa_label.shape != blood_label.shape:\n",
    "        print(f\"Patient {patient_folder} label shape error: {aaa_label.shape} vs {blood_label.shape}\")\n",
    "        continue\n",
    "    \n",
    "    if (blood_label.shape[0] * blood_label.shape[1] * blood_label.shape[2]) > 10000000:\n",
    "        print(f\"Patient {patient_folder} too large: {blood_label.shape}\")\n",
    "        continue\n",
    "\n",
    "    combined_label = np.zeros_like(aaa_label)\n",
    "    combined_label[aaa_label == 1] = 1\n",
    "    combined_label[blood_label == 1] = 2\n",
    "    \n",
    "    # if shape contains singular, make it even\n",
    "    padding = []\n",
    "    for dim in combined_label.shape:\n",
    "        if dim % 2 == 1:\n",
    "            padding.append(1)\n",
    "        else:\n",
    "            padding.append(0)\n",
    "    combined_label = np.pad(\n",
    "        combined_label,\n",
    "        ((0, padding[0]), (0, padding[1]), (0, padding[2])),\n",
    "        mode=\"constant\",\n",
    "    )\n",
    "    \n",
    "    label_nii = nib.Nifti1Image(combined_label, np.eye(4))\n",
    "    nib.save(label_nii, os.path.join(combined_path, f\"{patient_folder}_combined.nii.gz\"))"
   ]
  },
  {
   "cell_type": "markdown",
   "id": "bf273690",
   "metadata": {},
   "source": [
    "# Inspeact labels"
   ]
  },
  {
   "cell_type": "code",
   "execution_count": 3,
   "id": "90191271",
   "metadata": {},
   "outputs": [],
   "source": [
    "from utils.check_image import check_image\n",
    "import nibabel as nib\n",
    "from utils.nrrd2nii import nrrd2nii\n",
    "\n",
    "image = nrrd2nii(\"data/uwa_aaa/Patient1/Segmentation/CT_cropped.nrrd\").get_fdata()\n",
    "label = nib.load(\"data/uwa_aaa_combined/Patient1_combined.nii.gz\").get_fdata()\n",
    "label0 = nrrd2nii(\"data/uwa_aaa/Patient1/Segmentation/CT_AAA_label.nrrd\").get_fdata()\n",
    "label1 = nrrd2nii(\"data/uwa_aaa/Patient1/Segmentation/CT_blood_label.nrrd\").get_fdata()"
   ]
  },
  {
   "cell_type": "code",
   "execution_count": null,
   "id": "3c32ae1b",
   "metadata": {},
   "outputs": [
    {
     "data": {
      "application/vnd.jupyter.widget-view+json": {
       "model_id": "8ffbdd6e309a443285d99269c3b7532a",
       "version_major": 2,
       "version_minor": 0
      },
      "text/plain": [
       "interactive(children=(IntSlider(value=0, description='slice_index_0', max=125), IntSlider(value=0, description…"
      ]
     },
     "metadata": {},
     "output_type": "display_data"
    }
   ],
   "source": [
    "check_image(\n",
    "    [\n",
    "        {\"image\": image, \"title\": \"image\", \"is_label\": False},\n",
    "        {\"image\": label0, \"title\": \"label\", \"is_label\": True},\n",
    "        {\"image\": label1, \"title\": \"label\", \"is_label\": True},\n",
    "        {\"image\": label, \"title\": \"combined\", \"is_label\": True},\n",
    "    ]\n",
    ")"
   ]
  }
 ],
 "metadata": {
  "kernelspec": {
   "display_name": "synth_seg_3.8",
   "language": "python",
   "name": "python3"
  },
  "language_info": {
   "codemirror_mode": {
    "name": "ipython",
    "version": 3
   },
   "file_extension": ".py",
   "mimetype": "text/x-python",
   "name": "python",
   "nbconvert_exporter": "python",
   "pygments_lexer": "ipython3",
   "version": "3.8.19"
  }
 },
 "nbformat": 4,
 "nbformat_minor": 5
}
