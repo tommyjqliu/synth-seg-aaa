{
 "cells": [
  {
   "cell_type": "markdown",
   "id": "7b9dff82",
   "metadata": {},
   "source": [
    "# Combine Labels"
   ]
  },
  {
   "cell_type": "code",
   "execution_count": null,
   "id": "8b8cc8af",
   "metadata": {},
   "outputs": [
    {
     "name": "stdout",
     "output_type": "stream",
     "text": [
      "Patient Patient19 too large: (231, 292, 430)\n",
      "Patient Patient21 data incomplete\n",
      "Patient Patient22 data incomplete\n",
      "Patient Patient23 data incomplete\n",
      "Patient Patient24 data incomplete\n",
      "Patient Patient25 data incomplete\n",
      "Patient Patient27 data incomplete\n",
      "Patient Patient28 data incomplete\n",
      "Patient Patient29 data incomplete\n",
      "Patient Patient2 label shape error: (138, 123, 151) vs (138, 123, 200) vs (138, 123, 151)\n",
      "Patient Patient30 data incomplete\n",
      "Patient Patient31 data incomplete\n",
      "Patient Patient4 label shape error: (152, 157, 171) vs (152, 157, 95) vs (152, 157, 72)\n",
      "Patient Patient7 label shape error: (126, 135, 147) vs (512, 512, 239) vs (126, 135, 147)\n"
     ]
    }
   ],
   "source": [
    "# import and constant\n",
    "import os\n",
    "import numpy as np\n",
    "import nibabel as nib\n",
    "from utils.nrrd2nii import nrrd2nii\n",
    "\n",
    "source_path = \"data/uwa_aaa\"\n",
    "combined_path = \"data/nnunet_raw/Dataset001_raw_aaa\"\n",
    "os.makedirs(f\"{combined_path}/imagesTr\", exist_ok=True)\n",
    "os.makedirs(f\"{combined_path}/labelsTr\", exist_ok=True)\n",
    "os.makedirs(f\"{combined_path}/imagesTs\", exist_ok=True)\n",
    "os.makedirs(f\"{combined_path}/labelsTs\", exist_ok=True)\n",
    "\n",
    "# History Reseason to keep order\n",
    "origin_list = os.listdir(\"data/uwa_aaa\")\n",
    "for i, s in enumerate(origin_list):\n",
    "    origin_list[i] = s + \"_\"\n",
    "origin_list = sorted(origin_list)\n",
    "count = 0\n",
    "for i, s in enumerate(origin_list):\n",
    "    origin_list[i] = s.replace(\"_\", \"\")\n",
    "\n",
    "\n",
    "for patient_folder in origin_list:\n",
    "    patient_path = os.path.join(source_path, patient_folder)\n",
    "    aaa_label = None\n",
    "    blood_label = None\n",
    "    cropped_image = None\n",
    "    for root, dirs, files in os.walk(patient_path):\n",
    "        for file in files:\n",
    "            if file == \"CT_AAA_label.nrrd\":\n",
    "                aaa_label = nrrd2nii(os.path.join(root, file)).get_fdata()\n",
    "\n",
    "                assert (\n",
    "                    len(np.unique(aaa_label)) == 2\n",
    "                ), f\"Patient {patient_folder} label error\"\n",
    "\n",
    "                highest_label = np.max(aaa_label)\n",
    "                aaa_label[aaa_label == highest_label] = 1\n",
    "\n",
    "            if file == \"CT_blood_label.nrrd\":\n",
    "                blood_label = nrrd2nii(os.path.join(root, file)).get_fdata()\n",
    "                \n",
    "                assert (\n",
    "                    len(np.unique(blood_label)) == 2\n",
    "                ), f\"Patient {patient_folder} label error\"\n",
    "\n",
    "                highest_label = np.max(blood_label)\n",
    "                blood_label[blood_label == highest_label] = 1\n",
    "            \n",
    "            if file == \"CT_cropped.nrrd\":\n",
    "                cropped_image = nrrd2nii(os.path.join(root, file)).get_fdata()\n",
    "\n",
    "\n",
    "    if (aaa_label is None) or (blood_label is None) or (cropped_image is None):\n",
    "        print(f\"Patient {patient_folder} data incomplete\")\n",
    "        continue\n",
    "\n",
    "    if aaa_label.shape != blood_label.shape or aaa_label.shape != cropped_image.shape:\n",
    "        print(f\"Patient {patient_folder} label shape error: {aaa_label.shape} vs {blood_label.shape} vs {cropped_image.shape}\")\n",
    "        continue\n",
    "    \n",
    "    if (blood_label.shape[0] * blood_label.shape[1] * blood_label.shape[2]) > 10000000:\n",
    "        print(f\"Patient {patient_folder} too large: {blood_label.shape}\")\n",
    "        continue\n",
    "\n",
    "    combined_label = np.zeros_like(aaa_label)\n",
    "    combined_label[aaa_label == 1] = 1\n",
    "    combined_label[blood_label == 1] = 2\n",
    "    \n",
    "    # if shape contains singular, make it even\n",
    "    padding = []\n",
    "    for dim in combined_label.shape:\n",
    "        if dim % 2 == 1:\n",
    "            padding.append(1)\n",
    "        else:\n",
    "            padding.append(0)\n",
    "    combined_label = np.pad(\n",
    "        combined_label,\n",
    "        ((0, padding[0]), (0, padding[1]), (0, padding[2])),\n",
    "        mode=\"constant\",\n",
    "    )\n",
    "    cropped_image = np.pad(\n",
    "        cropped_image,\n",
    "        ((0, padding[0]), (0, padding[1]), (0, padding[2])),\n",
    "        mode=\"constant\",\n",
    "    )\n",
    "    if count < 16:\n",
    "        label_nii = nib.Nifti1Image(combined_label, np.eye(4))\n",
    "        nib.save(label_nii, os.path.join(f\"{combined_path}/labelsTr\", f\"aaa_{count:03d}.nii.gz\"))\n",
    "        image_nii = nib.Nifti1Image(cropped_image, np.eye(4))\n",
    "        nib.save(image_nii, os.path.join(f\"{combined_path}/imagesTr\", f\"aaa_{count:03d}_0000.nii.gz\"))\n",
    "    else:\n",
    "        label_nii = nib.Nifti1Image(combined_label, np.eye(4))\n",
    "        nib.save(label_nii, os.path.join(f\"{combined_path}/labelsTs\", f\"aaa_{count:03d}.nii.gz\"))\n",
    "        image_nii = nib.Nifti1Image(cropped_image, np.eye(4))\n",
    "        nib.save(image_nii, os.path.join(f\"{combined_path}/imagesTs\", f\"aaa_{count:03d}_0000.nii.gz\"))\n",
    "    count += 1"
   ]
  },
  {
   "cell_type": "markdown",
   "id": "bf273690",
   "metadata": {},
   "source": [
    "# Inspeact labels"
   ]
  },
  {
   "cell_type": "code",
   "execution_count": 25,
   "id": "90191271",
   "metadata": {},
   "outputs": [],
   "source": [
    "from utils.check_image import check_image\n",
    "import nibabel as nib\n",
    "from utils.nrrd2nii import nrrd2nii\n",
    "\n",
    "image = nib.load(\"data/nnunet_raw/Dataset001_raw_aaa/imagesTr/aaa_000_0000.nii.gz\").get_fdata()\n",
    "label = nib.load(\"data/nnunet_raw/Dataset001_raw_aaa/labelsTr/aaa_000.nii.gz\").get_fdata()"
   ]
  },
  {
   "cell_type": "code",
   "execution_count": 26,
   "id": "3c32ae1b",
   "metadata": {},
   "outputs": [
    {
     "data": {
      "application/vnd.jupyter.widget-view+json": {
       "model_id": "7d4bd0a938f14566a2e7d3bb2d4ac8b0",
       "version_major": 2,
       "version_minor": 0
      },
      "text/plain": [
       "interactive(children=(IntSlider(value=0, description='slice_index_0', max=98), IntSlider(value=0, description=…"
      ]
     },
     "metadata": {},
     "output_type": "display_data"
    }
   ],
   "source": [
    "check_image(\n",
    "    [\n",
    "        {\"image\": image, \"title\": \"image\", \"is_label\": False},\n",
    "        {\"image\": label, \"title\": \"combined\", \"is_label\": True},\n",
    "    ]\n",
    ")"
   ]
  }
 ],
 "metadata": {
  "kernelspec": {
   "display_name": "synth_seg_3.8",
   "language": "python",
   "name": "python3"
  },
  "language_info": {
   "codemirror_mode": {
    "name": "ipython",
    "version": 3
   },
   "file_extension": ".py",
   "mimetype": "text/x-python",
   "name": "python",
   "nbconvert_exporter": "python",
   "pygments_lexer": "ipython3",
   "version": "3.8.19"
  }
 },
 "nbformat": 4,
 "nbformat_minor": 5
}
