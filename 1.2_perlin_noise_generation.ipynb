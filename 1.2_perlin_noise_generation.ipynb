{
 "cells": [
  {
   "cell_type": "markdown",
   "metadata": {},
   "source": [
    "# Perlin Noise SynthSeg\n",
    "env: python3.8 tensorflow"
   ]
  },
  {
   "cell_type": "code",
   "execution_count": null,
   "metadata": {},
   "outputs": [
    {
     "name": "stdout",
     "output_type": "stream",
     "text": [
      "Generating Perlin noise with parameters:\n",
      "Grid size: (110, 104, 126)\n",
      "Scale: 6.911655714027905\n",
      "Octaves: 6\n",
      "Persistence: 0.44694719794020094\n",
      "Lacunarity: 1.9911592141651353\n",
      "Threshold: 0.5798468454312964\n",
      "Minimum cloud size: 39776\n",
      "Seed: 96\n",
      "Generating Perlin noise with parameters:\n",
      "Grid size: (110, 104, 126)\n",
      "Scale: 4.376846168147354\n",
      "Octaves: 6\n",
      "Persistence: 0.5782777869998654\n",
      "Lacunarity: 2.1904969136110317\n",
      "Threshold: 0.6217848634167679\n",
      "Minimum cloud size: 2744\n",
      "Seed: 299\n"
     ]
    }
   ],
   "source": [
    "from SynthSegAAA.perlin_noise import randomize_perlin_label\n",
    "from ext.lab2im import utils\n",
    "import numpy as np\n",
    "\n",
    "lab = utils.load_volume(\"data/uwa_aaa_combined/Patient1_combined.nii.gz\", dtype='int', aff_ref=np.eye(4))\n",
    "output = randomize_perlin_label(lab, target=0, layer=2)"
   ]
  },
  {
   "cell_type": "code",
   "execution_count": null,
   "metadata": {},
   "outputs": [
    {
     "data": {
      "application/vnd.jupyter.widget-view+json": {
       "model_id": "c28cf55692534b939b2e7c8f4c8617ac",
       "version_major": 2,
       "version_minor": 0
      },
      "text/plain": [
       "interactive(children=(IntSlider(value=0, description='slice_index_0', max=125), Output()), _dom_classes=('widg…"
      ]
     },
     "metadata": {},
     "output_type": "display_data"
    }
   ],
   "source": [
    "from utils.check_image import check_image\n",
    "\n",
    "check_image(\n",
    "    [\n",
    "        {\"image\": output , \"title\": \"image\", \"is_label\": False},\n",
    "    ]\n",
    ")"
   ]
  },
  {
   "cell_type": "markdown",
   "metadata": {},
   "source": [
    "# Generation"
   ]
  },
  {
   "cell_type": "code",
   "execution_count": null,
   "metadata": {},
   "outputs": [
    {
     "name": "stdout",
     "output_type": "stream",
     "text": [
      "(172, 124, 280) [0 1 2]\n",
      "Generating Perlin noise with parameters:\n",
      "Grid size: (172, 124, 280)\n",
      "Scale: 5.49816047538945\n",
      "Octaves: 5\n",
      "Persistence: 0.43668695797323276\n",
      "Lacunarity: 2.1118764001091077\n",
      "Threshold: 0.6096850157946487\n",
      "Minimum cloud size: 7265\n",
      "Seed: 214\n",
      "(172, 124, 280) [0 1 2 3]\n"
     ]
    }
   ],
   "source": [
    "import os\n",
    "import numpy as np\n",
    "import nibabel as nib\n",
    "from SynthSegAAA.brain_generator import BrainGenerator\n",
    "\n",
    "np.random.seed(42)\n",
    "\n",
    "input_label_path = \"data/uwa_aaa_combined\"\n",
    "image_path = \"data/Dataset002_perlin_aaa/imagesTr\"\n",
    "label_path = \"data/Dataset002_perlin_aaa/labelsTr\"\n",
    "os.makedirs(image_path, exist_ok=True)\n",
    "os.makedirs(label_path, exist_ok=True)\n",
    "label_files = os.listdir(input_label_path)\n",
    "count = 0\n",
    "\n",
    "for label_file in label_files[:5]:\n",
    "    brain_generator = BrainGenerator(\n",
    "        os.path.join(input_label_path, label_file), \n",
    "        generation_labels=np.array([0, 1, 2, 3]),\n",
    "        output_labels=np.array([0, 1, 2, 0]),\n",
    "        )\n",
    "    for i in range(1):\n",
    "        image, label = brain_generator.generate_brain()\n",
    "        nib.save(\n",
    "            nib.Nifti1Image(image, np.eye(4)),\n",
    "            os.path.join(image_path, f\"aaa_{count:03d}_0000.nii.gz\"),\n",
    "        )\n",
    "        nib.save(\n",
    "            nib.Nifti1Image(label, np.eye(4)),\n",
    "            os.path.join(label_path, f\"aaa_{count:03d}.nii.gz\"),\n",
    "        )\n",
    "        count += 1"
   ]
  },
  {
   "cell_type": "markdown",
   "metadata": {},
   "source": [
    "# Inspection"
   ]
  },
  {
   "cell_type": "code",
   "execution_count": null,
   "metadata": {},
   "outputs": [
    {
     "data": {
      "application/vnd.jupyter.widget-view+json": {
       "model_id": "05b4dc3d93584becb32e07a27baeafcf",
       "version_major": 2,
       "version_minor": 0
      },
      "text/plain": [
       "interactive(children=(IntSlider(value=0, description='slice_index_0', max=279), IntSlider(value=0, description…"
      ]
     },
     "metadata": {},
     "output_type": "display_data"
    }
   ],
   "source": [
    "\n",
    "from utils.check_image import check_image\n",
    "import nibabel as nib\n",
    "from utils.nrrd2nii import nrrd2nii\n",
    "\n",
    "\n",
    "label = nib.load(\"data/Dataset002_perlin_aaa/labelsTr/aaa_000.nii.gz\").get_fdata()\n",
    "image = nib.load(\"data/Dataset002_perlin_aaa/imagesTr/aaa_000_0000.nii.gz\").get_fdata()\n",
    "\n",
    "check_image(\n",
    "    [\n",
    "        {\"image\": label, \"title\": \"label\", \"is_label\": True},\n",
    "        {\"image\": image, \"title\": \"image\", \"is_label\": False},\n",
    "    ]\n",
    ")"
   ]
  }
 ],
 "metadata": {
  "kernelspec": {
   "display_name": "synth_seg_3.8",
   "language": "python",
   "name": "python3"
  },
  "language_info": {
   "codemirror_mode": {
    "name": "ipython",
    "version": 3
   },
   "file_extension": ".py",
   "mimetype": "text/x-python",
   "name": "python",
   "nbconvert_exporter": "python",
   "pygments_lexer": "ipython3",
   "version": "3.8.19"
  }
 },
 "nbformat": 4,
 "nbformat_minor": 2
}
