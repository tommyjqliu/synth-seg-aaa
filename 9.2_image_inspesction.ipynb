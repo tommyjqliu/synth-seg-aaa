{
 "cells": [
  {
   "cell_type": "code",
   "execution_count": null,
   "id": "503aaf8b",
   "metadata": {},
   "outputs": [
    {
     "data": {
      "application/vnd.jupyter.widget-view+json": {
       "model_id": "df277dcf7e2345eb89c88ecee37918c8",
       "version_major": 2,
       "version_minor": 0
      },
      "text/plain": [
       "interactive(children=(IntSlider(value=0, description='slice_index_0', max=116), IntSlider(value=0, description…"
      ]
     },
     "metadata": {},
     "output_type": "display_data"
    }
   ],
   "source": [
    "\n",
    "from utils.check_image import check_image\n",
    "import nibabel as nib\n",
    "\n",
    "image = nib.load(f\"data/nnunet_raw/Dataset001_raw_aaa/imagesTs/aaa_020_0000.nii.gz\").get_fdata()\n",
    "ground_truth = nib.load(f\"data/nnunet_raw/Dataset001_raw_aaa/labelsTs/aaa_020.nii.gz\").get_fdata()\n",
    "label0 = nib.load(f\"data/nnunet_raw/Dataset002_origin_synthseg/outputTs/aaa_020.nii.gz\").get_fdata()\n",
    "label1 = nib.load(f\"data/nnunet_raw/Dataset003_perlin_synthseg/outputTs/aaa_020.nii.gz\").get_fdata()\n",
    "label2 = nib.load(f\"data/nnunet_raw/Dataset004_perlin_synthseg/outputTs/aaa_020.nii.gz\").get_fdata()\n",
    "\n",
    "check_image(\n",
    "    [\n",
    "        {\"image\": image, \"title\": \"Image\", \"is_label\": False},\n",
    "        {\"image\": ground_truth, \"title\": \"Manual label\", \"is_label\": True},\n",
    "        {\"image\": label0, \"title\": \"Improved SynthSeg\", \"is_label\": True},\n",
    "        {\"image\": label1, \"title\": \"Original Synthseg\", \"is_label\": True},\n",
    "        {\"image\": label2, \"title\": \"Perlin Synthseg\", \"is_label\": True},\n",
    "    ]\n",
    ")\n"
   ]
  },
  {
   "cell_type": "code",
   "execution_count": 2,
   "id": "8b85e197",
   "metadata": {},
   "outputs": [
    {
     "data": {
      "text/plain": [
       "array([[[0., 0., 0., ..., 0., 0., 0.],\n",
       "        [0., 0., 0., ..., 0., 0., 0.],\n",
       "        [0., 0., 0., ..., 0., 0., 0.],\n",
       "        ...,\n",
       "        [0., 0., 0., ..., 0., 0., 0.],\n",
       "        [0., 0., 0., ..., 0., 0., 0.],\n",
       "        [0., 0., 0., ..., 0., 0., 0.]],\n",
       "\n",
       "       [[0., 0., 0., ..., 0., 0., 0.],\n",
       "        [0., 0., 0., ..., 0., 0., 0.],\n",
       "        [0., 0., 0., ..., 0., 0., 0.],\n",
       "        ...,\n",
       "        [0., 0., 0., ..., 0., 0., 0.],\n",
       "        [0., 0., 0., ..., 0., 0., 0.],\n",
       "        [0., 0., 0., ..., 0., 0., 0.]],\n",
       "\n",
       "       [[0., 0., 0., ..., 0., 0., 0.],\n",
       "        [0., 0., 0., ..., 0., 0., 0.],\n",
       "        [0., 0., 0., ..., 0., 0., 0.],\n",
       "        ...,\n",
       "        [0., 0., 0., ..., 0., 0., 0.],\n",
       "        [0., 0., 0., ..., 0., 0., 0.],\n",
       "        [0., 0., 0., ..., 0., 0., 0.]],\n",
       "\n",
       "       ...,\n",
       "\n",
       "       [[0., 0., 0., ..., 0., 0., 0.],\n",
       "        [0., 0., 0., ..., 0., 0., 0.],\n",
       "        [0., 0., 0., ..., 0., 0., 0.],\n",
       "        ...,\n",
       "        [0., 0., 0., ..., 0., 0., 0.],\n",
       "        [0., 0., 0., ..., 0., 0., 0.],\n",
       "        [0., 0., 0., ..., 0., 0., 0.]],\n",
       "\n",
       "       [[0., 0., 0., ..., 0., 0., 0.],\n",
       "        [0., 0., 0., ..., 0., 0., 0.],\n",
       "        [0., 0., 0., ..., 0., 0., 0.],\n",
       "        ...,\n",
       "        [0., 0., 0., ..., 0., 0., 0.],\n",
       "        [0., 0., 0., ..., 0., 0., 0.],\n",
       "        [0., 0., 0., ..., 0., 0., 0.]],\n",
       "\n",
       "       [[0., 0., 0., ..., 0., 0., 0.],\n",
       "        [0., 0., 0., ..., 0., 0., 0.],\n",
       "        [0., 0., 0., ..., 0., 0., 0.],\n",
       "        ...,\n",
       "        [0., 0., 0., ..., 0., 0., 0.],\n",
       "        [0., 0., 0., ..., 0., 0., 0.],\n",
       "        [0., 0., 0., ..., 0., 0., 0.]]])"
      ]
     },
     "execution_count": 2,
     "metadata": {},
     "output_type": "execute_result"
    }
   ],
   "source": [
    "nib.load(f\"data/nnunet_raw/Dataset001_raw_aaa/labelsTs/aaa_020.nii.gz\").get_fdata()"
   ]
  },
  {
   "cell_type": "code",
   "execution_count": 1,
   "id": "2da66c7b",
   "metadata": {},
   "outputs": [
    {
     "data": {
      "application/vnd.jupyter.widget-view+json": {
       "model_id": "f9a38b1622d042aeb42211027af3bade",
       "version_major": 2,
       "version_minor": 0
      },
      "text/plain": [
       "interactive(children=(IntSlider(value=0, description='slice_index_0', max=333), IntSlider(value=0, description…"
      ]
     },
     "metadata": {},
     "output_type": "display_data"
    }
   ],
   "source": [
    "\n",
    "from utils.nrrd2nii import nrrd2nii\n",
    "from utils.check_image import check_image\n",
    "import nibabel as nib\n",
    "\n",
    "\n",
    "image = nrrd2nii(\"data/uwa_aaa/Patient22/Segmentation/Patient 22 Crop.nrrd\").get_fdata()\n",
    "label0 = nrrd2nii(f\"data/uwa_aaa/Patient22/Segmentation/ILT22.seg.nrrd\").get_fdata()\n",
    "label1 = nrrd2nii(f\"data/uwa_aaa/Patient22/Segmentation/Lumen.seg.nrrd\").get_fdata()\n",
    "check_image(\n",
    "    [\n",
    "        {\"image\": image, \"title\": \"image\", \"is_label\": False},\n",
    "        # {\"image\": ground_truth, \"title\": \"label\", \"is_label\": True},\n",
    "        {\"image\": label0, \"title\": \"label\", \"is_label\": True},\n",
    "        {\"image\": label1, \"title\": \"label\", \"is_label\": True},\n",
    "    ]\n",
    ")\n"
   ]
  },
  {
   "cell_type": "code",
   "execution_count": 5,
   "id": "d30eafe2",
   "metadata": {},
   "outputs": [
    {
     "data": {
      "image/png": "[encoded data removed]",
      "text/plain": [
       "<Figure size 350x250 with 1 Axes>"
      ]
     },
     "metadata": {},
     "output_type": "display_data"
    }
   ],
   "source": [
    "import nibabel as nib\n",
    "import torch\n",
    "import numpy as np\n",
    "import matplotlib.pyplot as plt\n",
    "\n",
    "# Set IEEE style: Times New Roman or similar serif font\n",
    "plt.rcParams['font.family'] = 'Times New Roman'\n",
    "plt.rcParams['font.size'] = 10  # Base font size for text\n",
    "plt.rcParams['axes.labelsize'] = 10  # Axis labels\n",
    "plt.rcParams['axes.titlesize'] = 10  # Title\n",
    "plt.rcParams['xtick.labelsize'] = 8  # Tick labels\n",
    "plt.rcParams['ytick.labelsize'] = 8\n",
    "plt.rcParams['legend.fontsize'] = 8\n",
    "plt.rcParams['figure.figsize'] = (3.5, 2.5)  # IEEE single-column figure width in inches\n",
    "plt.rcParams['axes.grid'] = False  # Explicitly disable grid\n",
    "\n",
    "def load_and_pad_label(file_path, reference_shape):\n",
    "    \"\"\"Load a NIfTI file and pad it to ensure even dimensions.\"\"\"\n",
    "    label = nib.load(file_path).get_fdata()\n",
    "    padding = [(0, 1 if dim % 2 == 1 else 0) for dim in label.shape]\n",
    "    label = np.pad(label, padding, mode=\"constant\")\n",
    "    return label\n",
    "\n",
    "def calculate_dice_score(pred, target):\n",
    "    \"\"\"Calculate Dice score for a single class between prediction and target.\"\"\"\n",
    "    pred = torch.from_numpy(pred).float().flatten()\n",
    "    target = torch.from_numpy(target).float().flatten()\n",
    "    intersection = (pred * target).sum()\n",
    "    union = pred.sum() + target.sum()\n",
    "    dice = (2. * intersection) / (union + 1e-8)  # Small epsilon to avoid division by zero\n",
    "    return dice.item()\n",
    "\n",
    "def compute_dice_scores(label, ground_truth):\n",
    "    \"\"\"Compute Dice scores for all classes (excluding background).\"\"\"\n",
    "    num_classes = int(max(label.max(), ground_truth.max())) + 1\n",
    "    dice_scores = []\n",
    "    for class_id in range(1, num_classes):  # Skip background class (0)\n",
    "        pred_class = (label == class_id).astype(int)\n",
    "        target_class = (ground_truth == class_id).astype(int)\n",
    "        dice_score = calculate_dice_score(pred_class, target_class)\n",
    "        dice_scores.append(dice_score)\n",
    "    return dice_scores\n",
    "\n",
    "# Define IDs to process\n",
    "ids = [f\"{i:03d}\" for i in range(16, 21)]  # 016 to 020\n",
    "all_dice_raw = []\n",
    "all_dice_perlin = []\n",
    "all_dice_synthseg = []\n",
    "\n",
    "# Process each ID\n",
    "for id in ids:\n",
    "    # File paths\n",
    "    ground_truth_path = f\"data/nnunet_raw/Dataset001_raw_aaa/labelsTs/aaa_{id}.nii.gz\"\n",
    "    label_raw_path = f\"data/nnunet_raw/Dataset001_raw_aaa/outputTs/aaa_{id}.nii.gz\"\n",
    "    label_perlin_path = f\"data/nnunet_raw/Dataset003_perlin_synthseg/outputTs/aaa_{id}.nii.gz\"\n",
    "    label_synthseg_path = f\"data/nnunet_raw/Dataset004_perlin_synthseg/outputTs/aaa_{id}.nii.gz\"\n",
    "\n",
    "    # Load data\n",
    "    ground_truth = nib.load(ground_truth_path).get_fdata()\n",
    "    label_raw = load_and_pad_label(label_raw_path, ground_truth.shape)\n",
    "    label_perlin = load_and_pad_label(label_perlin_path, ground_truth.shape)\n",
    "    label_synthseg = load_and_pad_label(label_synthseg_path, ground_truth.shape)\n",
    "\n",
    "    # Compute Dice scores\n",
    "    all_dice_raw.extend(compute_dice_scores(label_raw, ground_truth))\n",
    "    all_dice_perlin.extend(compute_dice_scores(label_perlin, ground_truth))\n",
    "    all_dice_synthseg.extend(compute_dice_scores(label_synthseg, ground_truth))\n",
    "\n",
    "# Calculate mean Dice scores\n",
    "mean_dice_raw = np.mean(all_dice_raw) if all_dice_raw else 0\n",
    "mean_dice_perlin = np.mean(all_dice_perlin) if all_dice_perlin else 0\n",
    "mean_dice_synthseg = np.mean(all_dice_synthseg) if all_dice_synthseg else 0\n",
    "\n",
    "# Generate bar chart\n",
    "fig, ax = plt.subplots()\n",
    "labels = ['1000 epoch', '300 epoch']\n",
    "mean_scores = [mean_dice_perlin, mean_dice_synthseg]\n",
    "colors = ['0.5', '0.8']  # Grayscale for IEEE print compatibility\n",
    "\n",
    "bars = ax.bar(labels, mean_scores, color=colors, edgecolor='black')\n",
    "ax.set_ylabel('Mean Dice Score')\n",
    "ax.set_title('Mean Dice Score Comparison')\n",
    "\n",
    "# Add value labels on top of bars\n",
    "for bar in bars:\n",
    "    yval = bar.get_height()\n",
    "    ax.text(bar.get_x() + bar.get_width()/2, yval + 0.01, f'{yval:.3f}', \n",
    "            ha='center', va='bottom', fontsize=8)\n",
    "\n",
    "# Set y-axis limit with padding to avoid overlap\n",
    "ax.set_ylim(0, max(mean_scores) + 0.1)\n",
    "\n",
    "# Adjust layout to prevent label cutoff\n",
    "plt.tight_layout()\n",
    "\n",
    "# Save plot\n",
    "plt.savefig('mean_dice_score_comparison.png', dpi=300, bbox_inches='tight')"
   ]
  }
 ],
 "metadata": {
  "kernelspec": {
   "display_name": "nnUNet",
   "language": "python",
   "name": "python3"
  },
  "language_info": {
   "codemirror_mode": {
    "name": "ipython",
    "version": 3
   },
   "file_extension": ".py",
   "mimetype": "text/x-python",
   "name": "python",
   "nbconvert_exporter": "python",
   "pygments_lexer": "ipython3",
   "version": "3.12.9"
  }
 },
 "nbformat": 4,
 "nbformat_minor": 5
}
