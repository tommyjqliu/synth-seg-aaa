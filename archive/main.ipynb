{
 "cells": [
  {
   "cell_type": "markdown",
   "metadata": {},
   "source": [
    "# Inspect"
   ]
  },
  {
   "cell_type": "code",
   "execution_count": 1,
   "metadata": {},
   "outputs": [],
   "source": [
    "import nibabel as nib\n",
    "\n",
    "def inspect(nii_file):\n",
    "    # Get the header information\n",
    "    header = nii_file.header\n",
    "    print(\"Header Information:\")\n",
    "    print(header)\n",
    "\n",
    "    # Get the affine matrix (the transformation from voxel coordinates to world coordinates)\n",
    "    affine = nii_file.affine\n",
    "    print(\"\\nAffine Matrix:\")\n",
    "    print(affine)\n",
    "\n",
    "    # Get the shape of the data (dimensions of the image)\n",
    "    shape = nii_file.shape\n",
    "    print(\"\\nData Shape (Dimensions):\")\n",
    "    print(shape)\n",
    "\n",
    "    # Get data type\n",
    "    dtype = nii_file.get_data_dtype()\n",
    "    print(\"\\nData Type:\")\n",
    "    print(dtype)\n",
    "\n",
    "    # Get the actual image data as a numpy array\n",
    "    data = nii_file.get_fdata()\n",
    "    print(\"\\nImage Data Array:\")\n",
    "    print(data)\n"
   ]
  },
  {
   "cell_type": "code",
   "execution_count": 3,
   "metadata": {},
   "outputs": [],
   "source": [
    "# Extra non null\n",
    "\n",
    "nib_file = nib.load('../data/ab2/ct.nii.gz')\n",
    "data = nib_file.get_fdata()\n",
    "non_null_mask = data > -800"
   ]
  },
  {
   "cell_type": "markdown",
   "metadata": {},
   "source": [
    "# Combine label"
   ]
  },
  {
   "cell_type": "code",
   "execution_count": 124,
   "metadata": {},
   "outputs": [],
   "source": [
    "import nibabel as nib\n",
    "import numpy as np\n",
    "import os\n",
    "\n",
    "# Directory containing the individual class NIfTI files\n",
    "folder_path = './data/ab2/segmentations'\n",
    "\n",
    "# List all NIfTI files in the directory\n",
    "nifti_files = [f for f in os.listdir(folder_path) if f.endswith('.nii.gz')]\n",
    "\n",
    "# Initialize an empty array for the combined labels\n",
    "combined_array = None\n",
    "\n",
    "# Assign each class a unique integer label starting from 1\n",
    "for i, nifti_file in enumerate(nifti_files):\n",
    "    class_path = os.path.join(folder_path, nifti_file)\n",
    "    # Load the current class NIfTI file\n",
    "    nifti_img = nib.load(class_path)\n",
    "    nifti_data = nifti_img.get_fdata()\n",
    "    \n",
    "    # If combined_array is not initialized, do so with the shape of the nifti_data\n",
    "    if combined_array is None:\n",
    "        combined_array = np.zeros_like(nifti_data, dtype=np.int16)\n",
    "    \n",
    "    # Add the class label to the combined array\n",
    "    combined_array[nifti_data > 0] = i + 1 + 50\n",
    "\n"
   ]
  },
  {
   "cell_type": "code",
   "execution_count": 125,
   "metadata": {},
   "outputs": [],
   "source": [
    "combined_array[(combined_array == 0) & non_null_mask] = 40"
   ]
  },
  {
   "cell_type": "code",
   "execution_count": 126,
   "metadata": {},
   "outputs": [
    {
     "name": "stdout",
     "output_type": "stream",
     "text": [
      "Combined NIfTI file saved as 'combined_segmentation.nii.gz'\n"
     ]
    }
   ],
   "source": [
    "# Save the combined array as a NIfTI file\n",
    "combined_nifti = nib.Nifti1Image(combined_array, affine=nifti_img.affine)\n",
    "nib.save(combined_nifti, 'combined_segmentation.nii.gz')\n",
    "\n",
    "print(\"Combined NIfTI file saved as 'combined_segmentation.nii.gz'\")\n"
   ]
  },
  {
   "cell_type": "markdown",
   "metadata": {},
   "source": [
    "# Resample"
   ]
  },
  {
   "cell_type": "code",
   "execution_count": 127,
   "metadata": {},
   "outputs": [
    {
     "name": "stdout",
     "output_type": "stream",
     "text": [
      "Original Shape: (255, 255, 287)\n",
      "Resampled Shape: (256, 256, 256)\n"
     ]
    }
   ],
   "source": [
    "import nibabel as nib\n",
    "import numpy as np\n",
    "from scipy.ndimage import zoom\n",
    "\n",
    "# Load the NIfTI file\n",
    "nii_file = nib.load('data/ab2/combined_segmentation.nii.gz')\n",
    "\n",
    "# Get the image data\n",
    "data = nii_file.get_fdata()\n",
    "\n",
    "# Original shape\n",
    "original_shape = data.shape\n",
    "print(\"Original Shape:\", original_shape)\n",
    "\n",
    "# Define the new shape\n",
    "# new_shape = (256, 256, original_shape[2])\n",
    "new_shape = (256, 256, 256)\n",
    "# Calculate the zoom factors for each axis\n",
    "zoom_factors = [new_shape[i] / original_shape[i] for i in range(3)]\n",
    "\n",
    "# Resample the data to the new shape\n",
    "resampled_data = zoom(data, zoom_factors, order=0)  # Use order=1 for linear interpolation\n",
    "\n",
    "print(\"Resampled Shape:\", resampled_data.shape)\n",
    "\n",
    "# Create a new NIfTI image with the resampled data\n",
    "new_nii = nib.Nifti1Image(resampled_data, affine=nii_file.affine, header=nii_file.header)\n",
    "\n",
    "# Save the resampled NIfTI file\n",
    "nib.save(new_nii, './test_label.nii.gz')\n"
   ]
  },
  {
   "cell_type": "markdown",
   "metadata": {},
   "source": [
    "# Generate"
   ]
  },
  {
   "cell_type": "code",
   "execution_count": 1,
   "metadata": {},
   "outputs": [
    {
     "name": "stderr",
     "output_type": "stream",
     "text": [
      "2024-09-26 09:44:52.138919: I tensorflow/core/util/port.cc:153] oneDNN custom operations are on. You may see slightly different numerical results due to floating-point round-off errors from different computation orders. To turn them off, set the environment variable `TF_ENABLE_ONEDNN_OPTS=0`.\n",
      "2024-09-26 09:44:52.303485: E external/local_xla/xla/stream_executor/cuda/cuda_fft.cc:485] Unable to register cuFFT factory: Attempting to register factory for plugin cuFFT when one has already been registered\n",
      "2024-09-26 09:44:52.368637: E external/local_xla/xla/stream_executor/cuda/cuda_dnn.cc:8454] Unable to register cuDNN factory: Attempting to register factory for plugin cuDNN when one has already been registered\n",
      "2024-09-26 09:44:52.386425: E external/local_xla/xla/stream_executor/cuda/cuda_blas.cc:1452] Unable to register cuBLAS factory: Attempting to register factory for plugin cuBLAS when one has already been registered\n",
      "2024-09-26 09:44:52.510353: I tensorflow/core/platform/cpu_feature_guard.cc:210] This TensorFlow binary is optimized to use available CPU instructions in performance-critical operations.\n",
      "To enable the following instructions: AVX2 AVX_VNNI FMA, in other operations, rebuild TensorFlow with the appropriate compiler flags.\n",
      "2024-09-26 09:44:53.540127: W tensorflow/compiler/tf2tensorrt/utils/py_utils.cc:38] TF-TRT Warning: Could not find TensorRT\n"
     ]
    },
    {
     "name": "stdout",
     "output_type": "stream",
     "text": [
      "Compiling list of unique labels\n",
      "processing 1/1\n",
      "WARNING:tensorflow:From /home/tommy/miniconda3/envs/seg_3.12/lib/python3.12/site-packages/tensorflow/python/util/deprecation.py:660: calling map_fn_v2 (from tensorflow.python.ops.map_fn) with dtype is deprecated and will be removed in a future version.\n",
      "Instructions for updating:\n",
      "Use fn_output_signature instead\n"
     ]
    },
    {
     "name": "stderr",
     "output_type": "stream",
     "text": [
      "WARNING: All log messages before absl::InitializeLog() is called are written to STDERR\n",
      "I0000 00:00:1727315097.054737  470009 cuda_executor.cc:1001] could not open file to read NUMA node: /sys/bus/pci/devices/0000:01:00.0/numa_node\n",
      "Your kernel may have been built without NUMA support.\n",
      "2024-09-26 09:44:57.149960: W tensorflow/core/common_runtime/gpu/gpu_device.cc:2343] Cannot dlopen some GPU libraries. Please make sure the missing libraries mentioned above are installed properly if you would like to use GPU. Follow the guide at https://www.tensorflow.org/install/gpu for how to download and setup the required libraries for your platform.\n",
      "Skipping registering GPU devices...\n"
     ]
    },
    {
     "name": "stdout",
     "output_type": "stream",
     "text": [
      "\u001b[1m1/1\u001b[0m \u001b[32m━━━━━━━━━━━━━━━━━━━━\u001b[0m\u001b[37m\u001b[0m \u001b[1m11s\u001b[0m 11s/step\n"
     ]
    },
    {
     "ename": "AttributeError",
     "evalue": "module 'ext.lab2im.utils' has no attribute 'create_nifty'",
     "output_type": "error",
     "traceback": [
      "\u001b[0;31m---------------------------------------------------------------------------\u001b[0m",
      "\u001b[0;31mAttributeError\u001b[0m                            Traceback (most recent call last)",
      "Cell \u001b[0;32mIn[1], line 9\u001b[0m\n\u001b[1;32m      6\u001b[0m im, lab \u001b[38;5;241m=\u001b[39m brain_generator\u001b[38;5;241m.\u001b[39mgenerate_brain()\n\u001b[1;32m      8\u001b[0m \u001b[38;5;66;03m# save output image and label map under SynthSeg/generated_examples\u001b[39;00m\n\u001b[0;32m----> 9\u001b[0m image \u001b[38;5;241m=\u001b[39m \u001b[43mutils\u001b[49m\u001b[38;5;241;43m.\u001b[39;49m\u001b[43mcreate_nifty\u001b[49m(im, brain_generator\u001b[38;5;241m.\u001b[39maff, brain_generator\u001b[38;5;241m.\u001b[39mheader)\n\u001b[1;32m     10\u001b[0m label \u001b[38;5;241m=\u001b[39m utils\u001b[38;5;241m.\u001b[39mcreate_nifty(lab, brain_generator\u001b[38;5;241m.\u001b[39maff, brain_generator\u001b[38;5;241m.\u001b[39mheader)\n",
      "\u001b[0;31mAttributeError\u001b[0m: module 'ext.lab2im.utils' has no attribute 'create_nifty'"
     ]
    },
    {
     "ename": "",
     "evalue": "",
     "output_type": "error",
     "traceback": [
      "\u001b[1;31mThe Kernel crashed while executing code in the current cell or a previous cell. \n",
      "\u001b[1;31mPlease review the code in the cell(s) to identify a possible cause of the failure. \n",
      "\u001b[1;31mClick <a href='https://aka.ms/vscodeJupyterKernelCrash'>here</a> for more info. \n",
      "\u001b[1;31mView Jupyter <a href='command:jupyter.viewOutput'>log</a> for further details."
     ]
    }
   ],
   "source": [
    "\n",
    "from ext.lab2im import utils\n",
    "from SynthSeg.brain_generator import BrainGenerator\n",
    "\n",
    "# generate an image from the label map.\n",
    "brain_generator = BrainGenerator('data/training_label_maps/training_seg_01.nii.gz')\n",
    "im, lab = brain_generator.generate_brain()\n",
    "\n",
    "# save output image and label map under SynthSeg/generated_examples\n",
    "image = utils.create_nifty(im, brain_generator.aff, brain_generator.header)\n",
    "label = utils.create_nifty(lab, brain_generator.aff, brain_generator.header)\n"
   ]
  },
  {
   "cell_type": "code",
   "execution_count": 1,
   "metadata": {},
   "outputs": [],
   "source": [
    "import nibabel as nib"
   ]
  },
  {
   "cell_type": "code",
   "execution_count": 17,
   "metadata": {},
   "outputs": [],
   "source": [
    "label = nib.load('data/abdominal/combined_labels.nii.gz')\n",
    "image = nib.load('data/abdominal/ct.nii.gz')"
   ]
  },
  {
   "cell_type": "code",
   "execution_count": 3,
   "metadata": {},
   "outputs": [],
   "source": [
    "label = nib.load('data/ab2/combined_segmentation.nii.gz')\n",
    "image = nib.load('data/ab2/ct.nii.gz')"
   ]
  },
  {
   "cell_type": "code",
   "execution_count": 91,
   "metadata": {},
   "outputs": [],
   "source": [
    "label = nib.load('scripts/tutorials/outputs_tutorial_1/labels.nii.gz')\n",
    "image = nib.load('scripts/tutorials/outputs_tutorial_1/image.nii.gz')\n"
   ]
  },
  {
   "cell_type": "code",
   "execution_count": 2,
   "metadata": {},
   "outputs": [],
   "source": [
    "label = nib.load('outputs_tutorial_1/labels.nii.gz')\n",
    "image = nib.load('outputs_tutorial_1/image.nii.gz')"
   ]
  },
  {
   "cell_type": "code",
   "execution_count": 108,
   "metadata": {},
   "outputs": [],
   "source": [
    "label = nib.load('data/training_label_maps/training_seg_01.nii.gz')"
   ]
  },
  {
   "cell_type": "code",
   "execution_count": 100,
   "metadata": {},
   "outputs": [],
   "source": [
    "label = nib.load('data/ab2/resample_label.nii.gz')\n"
   ]
  },
  {
   "cell_type": "code",
   "execution_count": 3,
   "metadata": {},
   "outputs": [
    {
     "ename": "NameError",
     "evalue": "name 'inspect' is not defined",
     "output_type": "error",
     "traceback": [
      "\u001b[0;31m---------------------------------------------------------------------------\u001b[0m",
      "\u001b[0;31mNameError\u001b[0m                                 Traceback (most recent call last)",
      "Cell \u001b[0;32mIn[3], line 1\u001b[0m\n\u001b[0;32m----> 1\u001b[0m \u001b[43minspect\u001b[49m(label)\n",
      "\u001b[0;31mNameError\u001b[0m: name 'inspect' is not defined"
     ]
    }
   ],
   "source": [
    "inspect(label)"
   ]
  },
  {
   "cell_type": "code",
   "execution_count": 111,
   "metadata": {},
   "outputs": [
    {
     "data": {
      "text/plain": [
       "array([  0.,   2.,   3.,   4.,   5.,   7.,   8.,  10.,  11.,  12.,  13.,\n",
       "        14.,  15.,  16.,  17.,  18.,  24.,  25.,  26.,  28.,  30.,  41.,\n",
       "        42.,  43.,  44.,  46.,  47.,  49.,  50.,  51.,  52.,  53.,  54.,\n",
       "        57.,  58.,  60.,  62.,  72.,  85., 136., 137., 163., 164., 502.,\n",
       "       506., 507., 508., 509., 511., 512., 514., 515., 516., 530.])"
      ]
     },
     "execution_count": 111,
     "metadata": {},
     "output_type": "execute_result"
    }
   ],
   "source": [
    "import numpy as np\n",
    "file = nib.load('data/training_label_maps/training_seg_01.nii.gz')\n",
    "nifti_data = file.get_fdata()\n",
    "# Find unique classes (labels)\n",
    "unique_classes = np.unique(nifti_data)\n",
    "unique_classes"
   ]
  },
  {
   "cell_type": "code",
   "execution_count": 4,
   "metadata": {},
   "outputs": [
    {
     "data": {
      "application/vnd.jupyter.widget-view+json": {
       "model_id": "248ecd2b134c46eb93d00041b5a6e0c0",
       "version_major": 2,
       "version_minor": 0
      },
      "text/plain": [
       "interactive(children=(IntSlider(value=0, description='slice_idx', max=255), Output()), _dom_classes=('widget-i…"
      ]
     },
     "metadata": {},
     "output_type": "display_data"
    },
    {
     "data": {
      "text/plain": [
       "<function __main__.display_slice(slice_idx)>"
      ]
     },
     "execution_count": 4,
     "metadata": {},
     "output_type": "execute_result"
    }
   ],
   "source": [
    "import nibabel as nib\n",
    "import matplotlib.pyplot as plt\n",
    "from ipywidgets import interact, IntSlider\n",
    "\n",
    "\n",
    "nii_imgs = [label, image]\n",
    "num_slices = nii_imgs[0].shape[-1]\n",
    "def display_slice(slice_idx):\n",
    "    fig, axes = plt.subplots(1, 2, figsize=(16, 8))\n",
    "\n",
    "    img_data = nii_imgs[0].get_fdata()\n",
    "    # img_data = nii_imgs[0]\n",
    "    im = axes[0].imshow(img_data[:, :, slice_idx], cmap='jet')\n",
    "    # axes[0].imshow(img_data[:, :, slice_idx])\n",
    "    axes[0].axis('off')\n",
    "    cbar = plt.colorbar(im, ax=axes[0], fraction=0.046, pad=0.04)\n",
    "    cbar.set_label('Label Value')\n",
    "\n",
    "    img_data = nii_imgs[1].get_fdata()\n",
    "    axes[1].imshow(img_data[:, :, slice_idx], cmap='gray')\n",
    "    axes[1].axis('off')\n",
    "\n",
    "    plt.suptitle(f'NIfTI Image Slice {slice_idx}')\n",
    "    plt.show()\n",
    "\n",
    "# Create an interactive slider\n",
    "interact(display_slice, slice_idx=IntSlider(min=0, max=num_slices-1, step=1, value=0))\n"
   ]
  },
  {
   "cell_type": "code",
   "execution_count": 134,
   "metadata": {},
   "outputs": [
    {
     "name": "stdout",
     "output_type": "stream",
     "text": [
      "Compiling list of unique labels\n",
      "processing 1/1\n"
     ]
    }
   ],
   "source": [
    "from ext.lab2im import utils\n",
    "from SynthSeg.brain_generator import BrainGenerator\n",
    "\n",
    "# generate an image from the label map.\n",
    "# brain_generator = BrainGenerator('data/training_label_maps/training_seg_01.nii.gz')\n",
    "brain_generator = BrainGenerator('data/ab2/test_label.nii.gz')\n",
    "im, lab = brain_generator.generate_brain()\n",
    "\n",
    "# save output image and label map under SynthSeg/generated_examples\n",
    "image = utils.create_nifty(im, brain_generator.aff, brain_generator.header)\n",
    "label = utils.create_nifty(lab, brain_generator.aff, brain_generator.header)\n"
   ]
  },
  {
   "cell_type": "code",
   "execution_count": 4,
   "metadata": {},
   "outputs": [
    {
     "data": {
      "application/vnd.jupyter.widget-view+json": {
       "model_id": "140c5b7ce86d426cad42eb5e3185d8a4",
       "version_major": 2,
       "version_minor": 0
      },
      "text/plain": [
       "interactive(children=(IntSlider(value=0, description='slice_idx', max=286), Output()), _dom_classes=('widget-i…"
      ]
     },
     "metadata": {},
     "output_type": "display_data"
    },
    {
     "data": {
      "text/plain": [
       "<function __main__.display_slice(slice_idx)>"
      ]
     },
     "execution_count": 4,
     "metadata": {},
     "output_type": "execute_result"
    }
   ],
   "source": [
    "import nibabel as nib\n",
    "import matplotlib.pyplot as plt\n",
    "from ipywidgets import interact, IntSlider\n",
    "\n",
    "\n",
    "nii_imgs = [label, image]\n",
    "num_slices = nii_imgs[0].shape[-1]\n",
    "def display_slice(slice_idx):\n",
    "    fig, axes = plt.subplots(1, 2, figsize=(16, 8))\n",
    "\n",
    "    img_data = nii_imgs[0].get_fdata()\n",
    "    # img_data = nii_imgs[0]\n",
    "    im = axes[0].imshow(img_data[:, :, slice_idx], cmap='jet')\n",
    "    # axes[0].imshow(img_data[:, :, slice_idx])\n",
    "    axes[0].axis('off')\n",
    "    cbar = plt.colorbar(im, ax=axes[0], fraction=0.046, pad=0.04)\n",
    "    cbar.set_label('Label Value')\n",
    "\n",
    "    img_data = nii_imgs[1].get_fdata()\n",
    "    axes[1].imshow(img_data[:, :, slice_idx], cmap='gray')\n",
    "    axes[1].axis('off')\n",
    "\n",
    "    plt.suptitle(f'NIfTI Image Slice {slice_idx}')\n",
    "    plt.show()\n",
    "\n",
    "# Create an interactive slider\n",
    "interact(display_slice, slice_idx=IntSlider(min=0, max=num_slices-1, step=1, value=0))"
   ]
  }
 ],
 "metadata": {
  "kernelspec": {
   "display_name": "synth_seg_3.8",
   "language": "python",
   "name": "python3"
  },
  "language_info": {
   "codemirror_mode": {
    "name": "ipython",
    "version": 3
   },
   "file_extension": ".py",
   "mimetype": "text/x-python",
   "name": "python",
   "nbconvert_exporter": "python",
   "pygments_lexer": "ipython3",
   "version": "3.8.19"
  }
 },
 "nbformat": 4,
 "nbformat_minor": 2
}
