{
 "cells": [
  {
   "cell_type": "code",
   "execution_count": 13,
   "metadata": {},
   "outputs": [
    {
     "name": "stdout",
     "output_type": "stream",
     "text": [
      "data/uwa_aaa/Patient1 ['CT_AAA_label.nrrd', 'CT_blood_label.nrrd']\n",
      "data/uwa_aaa/Patient10 ['CT_AAA_label.nrrd', 'CT_blood_label.nrrd']\n",
      "data/uwa_aaa/Patient11 ['CT_AAA_label.nrrd', 'CT_blood_label.nrrd']\n",
      "data/uwa_aaa/Patient12 ['CT_AAA_label.nrrd', 'CT_blood_label.nrrd']\n",
      "data/uwa_aaa/Patient13 ['CT_AAA_label.nrrd', 'CT_blood_label.nrrd']\n"
     ]
    }
   ],
   "source": []
  },
  {
   "cell_type": "code",
   "execution_count": null,
   "metadata": {},
   "outputs": [
    {
     "name": "stderr",
     "output_type": "stream",
     "text": [
      "2024-10-07 21:43:49.163659: I tensorflow/core/util/port.cc:153] oneDNN custom operations are on. You may see slightly different numerical results due to floating-point round-off errors from different computation orders. To turn them off, set the environment variable `TF_ENABLE_ONEDNN_OPTS=0`.\n",
      "2024-10-07 21:43:49.174537: E external/local_xla/xla/stream_executor/cuda/cuda_fft.cc:485] Unable to register cuFFT factory: Attempting to register factory for plugin cuFFT when one has already been registered\n",
      "2024-10-07 21:43:49.185889: E external/local_xla/xla/stream_executor/cuda/cuda_dnn.cc:8454] Unable to register cuDNN factory: Attempting to register factory for plugin cuDNN when one has already been registered\n",
      "2024-10-07 21:43:49.189165: E external/local_xla/xla/stream_executor/cuda/cuda_blas.cc:1452] Unable to register cuBLAS factory: Attempting to register factory for plugin cuBLAS when one has already been registered\n",
      "2024-10-07 21:43:49.196856: I tensorflow/core/platform/cpu_feature_guard.cc:210] This TensorFlow binary is optimized to use available CPU instructions in performance-critical operations.\n",
      "To enable the following instructions: AVX2 AVX_VNNI FMA, in other operations, rebuild TensorFlow with the appropriate compiler flags.\n",
      "2024-10-07 21:43:49.867943: W tensorflow/compiler/tf2tensorrt/utils/py_utils.cc:38] TF-TRT Warning: Could not find TensorRT\n"
     ]
    },
    {
     "name": "stdout",
     "output_type": "stream",
     "text": [
      "Compiling list of unique labels\n",
      "processing 1/1\n",
      "WARNING:tensorflow:From /home/tommy/miniconda3/envs/SynthSeg_3.12_tensorflow/lib/python3.12/site-packages/tensorflow/python/util/deprecation.py:660: calling map_fn_v2 (from tensorflow.python.ops.map_fn) with dtype is deprecated and will be removed in a future version.\n",
      "Instructions for updating:\n",
      "Use fn_output_signature instead\n"
     ]
    },
    {
     "name": "stderr",
     "output_type": "stream",
     "text": [
      "2024-10-07 21:43:51.805805: E external/local_xla/xla/stream_executor/cuda/cuda_driver.cc:266] failed call to cuInit: CUDA_ERROR_NO_DEVICE: no CUDA-capable device is detected\n"
     ]
    },
    {
     "name": "stdout",
     "output_type": "stream",
     "text": [
      "\u001b[1m1/1\u001b[0m \u001b[32m━━━━━━━━━━━━━━━━━━━━\u001b[0m\u001b[37m\u001b[0m \u001b[1m6s\u001b[0m 6s/step\n"
     ]
    }
   ],
   "source": [
    "from ..synth_seg.brain_generator import BrainGenerator\n",
    "from utils.check_image import check_image\n",
    "import os\n",
    "\n",
    "os.environ[\"CUDA_VISIBLE_DEVICES\"] = \"-1\"\n",
    "combined_path = \"data/uwa_aaa_combined\"\n",
    "\n",
    "label_files = os.listdir(combined_path)\n",
    "\n",
    "brain_generator = BrainGenerator(os.path.join(combined_path, label_files[0]))\n",
    "im, lab, history = brain_generator.generate_brain()\n"
   ]
  },
  {
   "cell_type": "code",
   "execution_count": 4,
   "metadata": {},
   "outputs": [
    {
     "name": "stdout",
     "output_type": "stream",
     "text": [
      "(1, 172, 123, 280, 1)\n",
      "(1, 172, 123, 280, 1)\n",
      "(1, 172, 123, 280, 1)\n",
      "(1, 172, 123, 280, 1)\n"
     ]
    }
   ],
   "source": [
    "for h in history:\n",
    "    print(h.shape)"
   ]
  },
  {
   "cell_type": "code",
   "execution_count": 6,
   "metadata": {},
   "outputs": [
    {
     "data": {
      "application/vnd.jupyter.widget-view+json": {
       "model_id": "da10543393c64d5a8495b960cee8f99b",
       "version_major": 2,
       "version_minor": 0
      },
      "text/plain": [
       "interactive(children=(IntSlider(value=0, description='slice_index_0', max=279), IntSlider(value=0, description…"
      ]
     },
     "metadata": {},
     "output_type": "display_data"
    }
   ],
   "source": [
    "check_image(\n",
    "    [\n",
    "        {\n",
    "            \"image\": history[0][0, :, :, :, 0],\n",
    "            \"title\": \"Combined label\",\n",
    "            \"is_label\": True,\n",
    "        },\n",
    "        {\n",
    "            \"image\": history[1][0, :, :, :, 0],\n",
    "            \"title\": \"Combined label\",\n",
    "        },\n",
    "        {\"image\": history[2][0, :, :, :, 0], \"title\": \"Combined label\"},\n",
    "        {\n",
    "            \"image\": history[3][0, :, :, :, 0],\n",
    "            \"title\": \"Combined label\",\n",
    "        },\n",
    "    ]\n",
    ")"
   ]
  }
 ],
 "metadata": {
  "kernelspec": {
   "display_name": "SynthSeg_3.12_tensorflow",
   "language": "python",
   "name": "python3"
  },
  "language_info": {
   "codemirror_mode": {
    "name": "ipython",
    "version": 3
   },
   "file_extension": ".py",
   "mimetype": "text/x-python",
   "name": "python",
   "nbconvert_exporter": "python",
   "pygments_lexer": "ipython3",
   "version": "3.12.4"
  }
 },
 "nbformat": 4,
 "nbformat_minor": 2
}
