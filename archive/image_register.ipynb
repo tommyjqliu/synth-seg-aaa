{
 "cells": [
  {
   "cell_type": "markdown",
   "metadata": {},
   "source": [
    "# Image Conversion"
   ]
  },
  {
   "cell_type": "code",
   "execution_count": 1,
   "metadata": {},
   "outputs": [
    {
     "data": {
      "text/plain": [
       "<nibabel.nifti1.Nifti1Image at 0x7fd51c77a210>"
      ]
     },
     "execution_count": 1,
     "metadata": {},
     "output_type": "execute_result"
    }
   ],
   "source": [
    "from utils.nrrd2nii import nrrd2nii\n",
    "\n",
    "nrrd2nii('data/uwa_aaa/Patient1/Segmentation/CT_30%.nrrd', 'data/uwa_aaa/Patient1/Segmentation/CT_30%.nii.gz')"
   ]
  },
  {
   "cell_type": "markdown",
   "metadata": {},
   "source": [
    "# Check Image"
   ]
  },
  {
   "cell_type": "code",
   "execution_count": 1,
   "metadata": {},
   "outputs": [],
   "source": [
    "import nibabel as nib\n",
    "import numpy as np\n",
    "from utils.check_image import check_image\n",
    "from utils.nrrd2nii import nrrd2nii\n",
    "\n",
    "AAAlabel = nrrd2nii(\"data/uwa_aaa/Patient1/Segmentation/CT_AAA_label.nrrd\").get_fdata()\n",
    "Bloodlabel = nrrd2nii(\"data/uwa_aaa/Patient1/Segmentation/CT_blood_label.nrrd\").get_fdata()\n",
    "crop_image = nrrd2nii(\"data/uwa_aaa/Patient1/Segmentation/CT_cropped.nrrd\")\n",
    "image = nrrd2nii(\"data/uwa_aaa/Patient2/Segmentation/CT_30%.nrrd\")\n",
    "# ad = nib.load(\"data/uwa_aaa/Patient1/segmentations/adrenal_gland_left.nii.gz\")\n",
    "\n",
    "combined = AAAlabel + Bloodlabel"
   ]
  },
  {
   "cell_type": "code",
   "execution_count": 2,
   "metadata": {},
   "outputs": [],
   "source": [
    "ss = nib.load('data/training_label_maps/training_seg_01.nii.gz')"
   ]
  },
  {
   "cell_type": "code",
   "execution_count": 4,
   "metadata": {},
   "outputs": [
    {
     "data": {
      "application/vnd.jupyter.widget-view+json": {
       "model_id": "09471f52f47f4ee1a4e262e78638311c",
       "version_major": 2,
       "version_minor": 0
      },
      "text/plain": [
       "interactive(children=(IntSlider(value=0, description='slice_index_0', max=125), Output()), _dom_classes=('widg…"
      ]
     },
     "metadata": {},
     "output_type": "display_data"
    }
   ],
   "source": [
    "check_image(\n",
    "    [\n",
    "        # {\"image\": image, \"title\": \"Full image\", \"is_label\": False},\n",
    "        # {\"image\": crop_image, \"title\": \"Cropped image\", \"is_label\": False},\n",
    "        # {\"image\": AAAlabel, \"title\": \"AAA label\", \"is_label\": True},\n",
    "        # {\"image\": Bloodlabel, \"title\": \"Blood label\", \"is_label\": True},\n",
    "        {\"image\": combined, \"title\": \"Combined label\", \"is_label\": True},\n",
    "\n",
    "    ]\n",
    ")"
   ]
  },
  {
   "cell_type": "code",
   "execution_count": 8,
   "metadata": {},
   "outputs": [
    {
     "data": {
      "text/plain": [
       "array([  0.,   2.,   3.,   4.,   5.,   7.,   8.,  10.,  11.,  12.,  13.,\n",
       "        14.,  15.,  16.,  17.,  18.,  24.,  25.,  26.,  28.,  30.,  41.,\n",
       "        42.,  43.,  44.,  46.,  47.,  49.,  50.,  51.,  52.,  53.,  54.,\n",
       "        57.,  58.,  60.,  62.,  72.,  85., 136., 137., 163., 164., 502.,\n",
       "       506., 507., 508., 509., 511., 512., 514., 515., 516., 530.])"
      ]
     },
     "execution_count": 8,
     "metadata": {},
     "output_type": "execute_result"
    }
   ],
   "source": [
    "import numpy as np\n",
    "np.unique(ss.get_fdata())"
   ]
  },
  {
   "cell_type": "markdown",
   "metadata": {},
   "source": [
    "# Combine labels from totalsegmentor"
   ]
  },
  {
   "cell_type": "code",
   "execution_count": 1,
   "metadata": {},
   "outputs": [],
   "source": [
    "import os\n",
    "import nibabel as nib\n",
    "import numpy as np\n",
    "\n",
    "\n",
    "combine_label = np.zeros((512, 512, 281))\n",
    "for root, dirs, files in os.walk(\"data/uwa_aaa/Patient1/segmentations\"):\n",
    "    images = [file for file in files if file.endswith(\".nii.gz\")]\n",
    "    for i, image in enumerate(images):\n",
    "        image = nib.load(os.path.join(root, image))\n",
    "        combine_label[image.get_fdata().astype(bool)] = i + 10"
   ]
  },
  {
   "cell_type": "code",
   "execution_count": 33,
   "metadata": {},
   "outputs": [],
   "source": [
    "def get_image(index):\n",
    "    for root, dirs, files in os.walk(\"data/uwa_aaa/Patient1/segmentations\"):\n",
    "        images = [file for file in files if file.endswith(\".nii.gz\")]\n",
    "        return nib.load(root + \"/\" + images[index])"
   ]
  },
  {
   "cell_type": "code",
   "execution_count": 35,
   "metadata": {},
   "outputs": [],
   "source": [
    "from utils.nii_transform import label_transform\n",
    "image = nrrd2nii(\"data/uwa_aaa/Patient1/Segmentation/CT_30%.nrrd\")\n",
    "AAA_label = nrrd2nii(\"data/uwa_aaa/Patient1/Segmentation/CT_AAA_label.nrrd\")\n",
    "blood_label = nrrd2nii(\"data/uwa_aaa/Patient1/Segmentation/CT_blood_label.nrrd\")\n",
    "final_label = combine_label.copy()\n",
    "final_label[np.logical_and((combine_label == 0), (image.get_fdata() > -500))] = 100\n",
    "aaa_label = label_transform(\n",
    "    AAA_label.get_fdata(),\n",
    "    image.get_fdata().shape,\n",
    "    offset_x=216,\n",
    "    offset_y=243,\n",
    "    offset_z=83,\n",
    "    flip_x=True,\n",
    "    flip_y=True,\n",
    ")\n",
    "blood_label = label_transform(\n",
    "    blood_label.get_fdata(),\n",
    "    image.get_fdata().shape,\n",
    "    offset_x=216,\n",
    "    offset_y=243,\n",
    "    offset_z=83,\n",
    "    flip_x=True,\n",
    "    flip_y=True,\n",
    ")\n",
    "final_label[aaa_label > 0.5] = 90\n",
    "final_label[blood_label> 0.5] = 80"
   ]
  },
  {
   "cell_type": "code",
   "execution_count": 43,
   "metadata": {},
   "outputs": [],
   "source": [
    "cropped = nrrd2nii(\"data/uwa_aaa/Patient1/Segmentation/CT_cropped.nrrd\").get_fdata()\n",
    "\n",
    "from skimage import io, img_as_float\n",
    "from skimage.restoration import denoise_nl_means\n",
    "denoised_image = denoise_nl_means(cropped)\n"
   ]
  },
  {
   "cell_type": "code",
   "execution_count": 11,
   "metadata": {},
   "outputs": [
    {
     "ename": "NameError",
     "evalue": "name 'image' is not defined",
     "output_type": "error",
     "traceback": [
      "\u001b[0;31m---------------------------------------------------------------------------\u001b[0m",
      "\u001b[0;31mNameError\u001b[0m                                 Traceback (most recent call last)",
      "Cell \u001b[0;32mIn[11], line 9\u001b[0m\n\u001b[1;32m      2\u001b[0m \u001b[38;5;28;01mfrom\u001b[39;00m \u001b[38;5;21;01mutils\u001b[39;00m\u001b[38;5;21;01m.\u001b[39;00m\u001b[38;5;21;01mnrrd2nii\u001b[39;00m \u001b[38;5;28;01mimport\u001b[39;00m nrrd2nii\n\u001b[1;32m      3\u001b[0m \u001b[38;5;28;01mfrom\u001b[39;00m \u001b[38;5;21;01mutils\u001b[39;00m\u001b[38;5;21;01m.\u001b[39;00m\u001b[38;5;21;01mnii_transform\u001b[39;00m \u001b[38;5;28;01mimport\u001b[39;00m label_transform\n\u001b[1;32m      6\u001b[0m check_image(\n\u001b[1;32m      7\u001b[0m     [\n\u001b[1;32m      8\u001b[0m         {\n\u001b[0;32m----> 9\u001b[0m             \u001b[38;5;124m\"\u001b[39m\u001b[38;5;124mimage\u001b[39m\u001b[38;5;124m\"\u001b[39m: \u001b[43mimage\u001b[49m,\n\u001b[1;32m     10\u001b[0m             \u001b[38;5;124m\"\u001b[39m\u001b[38;5;124mtitle\u001b[39m\u001b[38;5;124m\"\u001b[39m: \u001b[38;5;124m\"\u001b[39m\u001b[38;5;124mimage\u001b[39m\u001b[38;5;124m\"\u001b[39m,\n\u001b[1;32m     11\u001b[0m             \u001b[38;5;124m\"\u001b[39m\u001b[38;5;124mis_label\u001b[39m\u001b[38;5;124m\"\u001b[39m: \u001b[38;5;28;01mFalse\u001b[39;00m,\n\u001b[1;32m     12\u001b[0m         },\n\u001b[1;32m     13\u001b[0m         {\n\u001b[1;32m     14\u001b[0m             \u001b[38;5;124m\"\u001b[39m\u001b[38;5;124mimage\u001b[39m\u001b[38;5;124m\"\u001b[39m: final_label,\n\u001b[1;32m     15\u001b[0m             \u001b[38;5;124m\"\u001b[39m\u001b[38;5;124mtitle\u001b[39m\u001b[38;5;124m\"\u001b[39m: \u001b[38;5;124m\"\u001b[39m\u001b[38;5;124mimage\u001b[39m\u001b[38;5;124m\"\u001b[39m,\n\u001b[1;32m     16\u001b[0m             \u001b[38;5;124m\"\u001b[39m\u001b[38;5;124mis_label\u001b[39m\u001b[38;5;124m\"\u001b[39m: \u001b[38;5;28;01mTrue\u001b[39;00m,\n\u001b[1;32m     17\u001b[0m         },\n\u001b[1;32m     18\u001b[0m         {\n\u001b[1;32m     19\u001b[0m             \u001b[38;5;124m\"\u001b[39m\u001b[38;5;124mimage\u001b[39m\u001b[38;5;124m\"\u001b[39m: denoised_image,\n\u001b[1;32m     20\u001b[0m             \u001b[38;5;124m\"\u001b[39m\u001b[38;5;124mtitle\u001b[39m\u001b[38;5;124m\"\u001b[39m: \u001b[38;5;124m\"\u001b[39m\u001b[38;5;124mimage\u001b[39m\u001b[38;5;124m\"\u001b[39m,\n\u001b[1;32m     21\u001b[0m             \u001b[38;5;66;03m# \"is_label\": True,\u001b[39;00m\n\u001b[1;32m     22\u001b[0m         },\n\u001b[1;32m     23\u001b[0m         \u001b[38;5;66;03m# {\u001b[39;00m\n\u001b[1;32m     24\u001b[0m         \u001b[38;5;66;03m#     \"image\": nrrd2nii(\"data/uwa_aaa/Patient1/Segmentation/CT_cropped.nrrd\"),\u001b[39;00m\n\u001b[1;32m     25\u001b[0m         \u001b[38;5;66;03m#     \"title\": \"crop_image\",\u001b[39;00m\n\u001b[1;32m     26\u001b[0m         \u001b[38;5;66;03m#     \"is_label\": False,\u001b[39;00m\n\u001b[1;32m     27\u001b[0m         \u001b[38;5;66;03m# },\u001b[39;00m\n\u001b[1;32m     28\u001b[0m         \u001b[38;5;66;03m# {\u001b[39;00m\n\u001b[1;32m     29\u001b[0m         \u001b[38;5;66;03m#     \"image\": nrrd2nii(\"data/uwa_aaa/Patient1/Segmentation/CT_blood_label.nrrd\"),\u001b[39;00m\n\u001b[1;32m     30\u001b[0m         \u001b[38;5;66;03m#     \"title\": \"label\",\u001b[39;00m\n\u001b[1;32m     31\u001b[0m         \u001b[38;5;66;03m#     \"is_label\": True,\u001b[39;00m\n\u001b[1;32m     32\u001b[0m         \u001b[38;5;66;03m# },\u001b[39;00m\n\u001b[1;32m     33\u001b[0m         \u001b[38;5;66;03m# {\"image\": Bloodlabel, \"title\": \"label\", \"is_label\": True},\u001b[39;00m\n\u001b[1;32m     34\u001b[0m     ]\n\u001b[1;32m     35\u001b[0m )\n",
      "\u001b[0;31mNameError\u001b[0m: name 'image' is not defined"
     ]
    }
   ],
   "source": [
    "from utils.check_image import check_image\n",
    "from utils.nrrd2nii import nrrd2nii\n",
    "from utils.nii_transform import label_transform\n",
    "\n",
    "\n",
    "check_image(\n",
    "    [\n",
    "        {\n",
    "            \"image\": image,\n",
    "            \"title\": \"image\",\n",
    "            \"is_label\": False,\n",
    "        },\n",
    "        {\n",
    "            \"image\": final_label,\n",
    "            \"title\": \"image\",\n",
    "            \"is_label\": True,\n",
    "        },\n",
    "        {\n",
    "            \"image\": denoised_image,\n",
    "            \"title\": \"image\",\n",
    "            # \"is_label\": True,\n",
    "        },\n",
    "        # {\n",
    "        #     \"image\": nrrd2nii(\"data/uwa_aaa/Patient1/Segmentation/CT_cropped.nrrd\"),\n",
    "        #     \"title\": \"crop_image\",\n",
    "        #     \"is_label\": False,\n",
    "        # },\n",
    "        # {\n",
    "        #     \"image\": nrrd2nii(\"data/uwa_aaa/Patient1/Segmentation/CT_blood_label.nrrd\"),\n",
    "        #     \"title\": \"label\",\n",
    "        #     \"is_label\": True,\n",
    "        # },\n",
    "        # {\"image\": Bloodlabel, \"title\": \"label\", \"is_label\": True},\n",
    "    ]\n",
    ")"
   ]
  },
  {
   "cell_type": "code",
   "execution_count": 1,
   "metadata": {},
   "outputs": [],
   "source": [
    "import nibabel as nib\n",
    "import numpy as np\n",
    "from scipy.ndimage import zoom\n",
    "\n",
    "image0 = nib.load(\"data/uwa_aaa/Patient1/combined_label.nii.gz\")\n",
    "resize_image = zoom(image0.get_fdata(), 0.5)\n",
    "image0 = nib.Nifti1Image(resize_image, image0.affine)\n",
    "nib.save(image0, \"data/uwa_aaa/Patient1/re_combined_label.nii.gz\")"
   ]
  },
  {
   "cell_type": "code",
   "execution_count": 45,
   "metadata": {},
   "outputs": [],
   "source": [
    "nib.save(nib.Nifti1Image(final_label, image.affine), \"data/uwa_aaa/Patient1/combined_label.nii.gz\")"
   ]
  },
  {
   "cell_type": "code",
   "execution_count": 15,
   "metadata": {},
   "outputs": [
    {
     "name": "stdout",
     "output_type": "stream",
     "text": [
      "Compiling list of unique labels\n",
      "processing 1/1\n"
     ]
    },
    {
     "name": "stderr",
     "output_type": "stream",
     "text": [
      "2024-09-26 10:43:30.287243: W tensorflow/core/framework/op_kernel.cc:1840] OP_REQUIRES failed at scatter_nd_op.cc:131 : INVALID_ARGUMENT: indices[0,0] = [-42] does not index into shape [148]\n",
      "2024-09-26 10:43:30.287329: I tensorflow/core/framework/local_rendezvous.cc:404] Local rendezvous is aborting with status: INVALID_ARGUMENT: indices[0,0] = [-42] does not index into shape [148]\n",
      "\t [[{{node functional_1_1/sample_conditional_gmm_1_1/ScatterNd}}]]\n",
      "2024-09-26 10:43:30.287744: W tensorflow/core/framework/op_kernel.cc:1840] OP_REQUIRES failed at scatter_nd_op.cc:131 : INVALID_ARGUMENT: indices[0,0] = [-42] does not index into shape [148]\n"
     ]
    },
    {
     "ename": "InvalidArgumentError",
     "evalue": "Graph execution error:\n\nDetected at node functional_1_1/sample_conditional_gmm_1_1/ScatterNd defined at (most recent call last):\n  File \"<frozen runpy>\", line 198, in _run_module_as_main\n\n  File \"<frozen runpy>\", line 88, in _run_code\n\n  File \"/home/tommy/miniconda3/envs/seg_3.12/lib/python3.12/site-packages/ipykernel_launcher.py\", line 18, in <module>\n\n  File \"/home/tommy/miniconda3/envs/seg_3.12/lib/python3.12/site-packages/traitlets/config/application.py\", line 1075, in launch_instance\n\n  File \"/home/tommy/miniconda3/envs/seg_3.12/lib/python3.12/site-packages/ipykernel/kernelapp.py\", line 739, in start\n\n  File \"/home/tommy/miniconda3/envs/seg_3.12/lib/python3.12/site-packages/tornado/platform/asyncio.py\", line 205, in start\n\n  File \"/home/tommy/miniconda3/envs/seg_3.12/lib/python3.12/asyncio/base_events.py\", line 641, in run_forever\n\n  File \"/home/tommy/miniconda3/envs/seg_3.12/lib/python3.12/asyncio/base_events.py\", line 1987, in _run_once\n\n  File \"/home/tommy/miniconda3/envs/seg_3.12/lib/python3.12/asyncio/events.py\", line 88, in _run\n\n  File \"/home/tommy/miniconda3/envs/seg_3.12/lib/python3.12/site-packages/ipykernel/kernelbase.py\", line 545, in dispatch_queue\n\n  File \"/home/tommy/miniconda3/envs/seg_3.12/lib/python3.12/site-packages/ipykernel/kernelbase.py\", line 534, in process_one\n\n  File \"/home/tommy/miniconda3/envs/seg_3.12/lib/python3.12/site-packages/ipykernel/kernelbase.py\", line 437, in dispatch_shell\n\n  File \"/home/tommy/miniconda3/envs/seg_3.12/lib/python3.12/site-packages/ipykernel/ipkernel.py\", line 362, in execute_request\n\n  File \"/home/tommy/miniconda3/envs/seg_3.12/lib/python3.12/site-packages/ipykernel/kernelbase.py\", line 778, in execute_request\n\n  File \"/home/tommy/miniconda3/envs/seg_3.12/lib/python3.12/site-packages/ipykernel/ipkernel.py\", line 449, in do_execute\n\n  File \"/home/tommy/miniconda3/envs/seg_3.12/lib/python3.12/site-packages/ipykernel/zmqshell.py\", line 549, in run_cell\n\n  File \"/home/tommy/miniconda3/envs/seg_3.12/lib/python3.12/site-packages/IPython/core/interactiveshell.py\", line 3075, in run_cell\n\n  File \"/home/tommy/miniconda3/envs/seg_3.12/lib/python3.12/site-packages/IPython/core/interactiveshell.py\", line 3130, in _run_cell\n\n  File \"/home/tommy/miniconda3/envs/seg_3.12/lib/python3.12/site-packages/IPython/core/async_helpers.py\", line 128, in _pseudo_sync_runner\n\n  File \"/home/tommy/miniconda3/envs/seg_3.12/lib/python3.12/site-packages/IPython/core/interactiveshell.py\", line 3334, in run_cell_async\n\n  File \"/home/tommy/miniconda3/envs/seg_3.12/lib/python3.12/site-packages/IPython/core/interactiveshell.py\", line 3517, in run_ast_nodes\n\n  File \"/home/tommy/miniconda3/envs/seg_3.12/lib/python3.12/site-packages/IPython/core/interactiveshell.py\", line 3577, in run_code\n\n  File \"/tmp/ipykernel_470915/3672978274.py\", line 10, in <module>\n\n  File \"/home/tommy/repository/SynthSeg_3.12/SynthSeg/brain_generator.py\", line 324, in generate_brain\n\n  File \"/home/tommy/repository/SynthSeg_3.12/SynthSeg/brain_generator.py\", line 319, in _build_brain_generator\n\n  File \"/home/tommy/miniconda3/envs/seg_3.12/lib/python3.12/site-packages/keras/src/utils/traceback_utils.py\", line 117, in error_handler\n\n  File \"/home/tommy/miniconda3/envs/seg_3.12/lib/python3.12/site-packages/keras/src/backend/tensorflow/trainer.py\", line 512, in predict\n\n  File \"/home/tommy/miniconda3/envs/seg_3.12/lib/python3.12/site-packages/keras/src/backend/tensorflow/trainer.py\", line 208, in one_step_on_data_distributed\n\n  File \"/home/tommy/miniconda3/envs/seg_3.12/lib/python3.12/site-packages/keras/src/backend/tensorflow/trainer.py\", line 198, in one_step_on_data\n\n  File \"/home/tommy/miniconda3/envs/seg_3.12/lib/python3.12/site-packages/keras/src/backend/tensorflow/trainer.py\", line 96, in predict_step\n\n  File \"/home/tommy/miniconda3/envs/seg_3.12/lib/python3.12/site-packages/keras/src/utils/traceback_utils.py\", line 117, in error_handler\n\n  File \"/home/tommy/miniconda3/envs/seg_3.12/lib/python3.12/site-packages/keras/src/layers/layer.py\", line 901, in __call__\n\n  File \"/home/tommy/miniconda3/envs/seg_3.12/lib/python3.12/site-packages/keras/src/utils/traceback_utils.py\", line 117, in error_handler\n\n  File \"/home/tommy/miniconda3/envs/seg_3.12/lib/python3.12/site-packages/keras/src/ops/operation.py\", line 46, in __call__\n\n  File \"/home/tommy/miniconda3/envs/seg_3.12/lib/python3.12/site-packages/keras/src/utils/traceback_utils.py\", line 156, in error_handler\n\n  File \"/home/tommy/miniconda3/envs/seg_3.12/lib/python3.12/site-packages/keras/src/models/functional.py\", line 175, in call\n\n  File \"/home/tommy/miniconda3/envs/seg_3.12/lib/python3.12/site-packages/keras/src/ops/function.py\", line 171, in _run_through_graph\n\n  File \"/home/tommy/miniconda3/envs/seg_3.12/lib/python3.12/site-packages/keras/src/models/functional.py\", line 560, in call\n\n  File \"/home/tommy/miniconda3/envs/seg_3.12/lib/python3.12/site-packages/keras/src/utils/traceback_utils.py\", line 117, in error_handler\n\n  File \"/home/tommy/miniconda3/envs/seg_3.12/lib/python3.12/site-packages/keras/src/layers/layer.py\", line 901, in __call__\n\n  File \"/home/tommy/miniconda3/envs/seg_3.12/lib/python3.12/site-packages/keras/src/utils/traceback_utils.py\", line 117, in error_handler\n\n  File \"/home/tommy/miniconda3/envs/seg_3.12/lib/python3.12/site-packages/keras/src/ops/operation.py\", line 46, in __call__\n\n  File \"/home/tommy/miniconda3/envs/seg_3.12/lib/python3.12/site-packages/keras/src/utils/traceback_utils.py\", line 156, in error_handler\n\n  File \"/home/tommy/repository/SynthSeg_3.12/ext/lab2im/layers.py\", line 490, in call\n\nindices[0,0] = [-42] does not index into shape [148]\n\t [[{{node functional_1_1/sample_conditional_gmm_1_1/ScatterNd}}]] [Op:__inference_one_step_on_data_distributed_17138]",
     "output_type": "error",
     "traceback": [
      "\u001b[0;31m---------------------------------------------------------------------------\u001b[0m",
      "\u001b[0;31mInvalidArgumentError\u001b[0m                      Traceback (most recent call last)",
      "Cell \u001b[0;32mIn[15], line 10\u001b[0m\n\u001b[1;32m      8\u001b[0m \u001b[38;5;66;03m# generate an image from the label map.\u001b[39;00m\n\u001b[1;32m      9\u001b[0m brain_generator \u001b[38;5;241m=\u001b[39m BrainGenerator(\u001b[38;5;124m'\u001b[39m\u001b[38;5;124mdata/uwa_aaa/Patient1/re_combined_label.nii.gz\u001b[39m\u001b[38;5;124m'\u001b[39m)\n\u001b[0;32m---> 10\u001b[0m im, lab \u001b[38;5;241m=\u001b[39m \u001b[43mbrain_generator\u001b[49m\u001b[38;5;241;43m.\u001b[39;49m\u001b[43mgenerate_brain\u001b[49m\u001b[43m(\u001b[49m\u001b[43m)\u001b[49m\n\u001b[1;32m     12\u001b[0m \u001b[38;5;66;03m# save output image and label map under SynthSeg/generated_examples\u001b[39;00m\n",
      "File \u001b[0;32m~/repository/SynthSeg_3.12/SynthSeg/brain_generator.py:324\u001b[0m, in \u001b[0;36mBrainGenerator.generate_brain\u001b[0;34m(self)\u001b[0m\n\u001b[1;32m    322\u001b[0m \u001b[38;5;28;01mdef\u001b[39;00m \u001b[38;5;21mgenerate_brain\u001b[39m(\u001b[38;5;28mself\u001b[39m):\n\u001b[1;32m    323\u001b[0m \u001b[38;5;250m    \u001b[39m\u001b[38;5;124;03m\"\"\"call this method when an object of this class has been instantiated to generate new brains\"\"\"\u001b[39;00m\n\u001b[0;32m--> 324\u001b[0m     (image, labels) \u001b[38;5;241m=\u001b[39m \u001b[38;5;28;43mnext\u001b[39;49m\u001b[43m(\u001b[49m\u001b[38;5;28;43mself\u001b[39;49m\u001b[38;5;241;43m.\u001b[39;49m\u001b[43mbrain_generator\u001b[49m\u001b[43m)\u001b[49m\n\u001b[1;32m    325\u001b[0m     \u001b[38;5;66;03m# put back images in native space\u001b[39;00m\n\u001b[1;32m    326\u001b[0m     list_images \u001b[38;5;241m=\u001b[39m \u001b[38;5;28mlist\u001b[39m()\n",
      "File \u001b[0;32m~/repository/SynthSeg_3.12/SynthSeg/brain_generator.py:319\u001b[0m, in \u001b[0;36mBrainGenerator._build_brain_generator\u001b[0;34m(self)\u001b[0m\n\u001b[1;32m    317\u001b[0m \u001b[38;5;28;01mwhile\u001b[39;00m \u001b[38;5;28;01mTrue\u001b[39;00m:\n\u001b[1;32m    318\u001b[0m     model_inputs \u001b[38;5;241m=\u001b[39m \u001b[38;5;28mnext\u001b[39m(\u001b[38;5;28mself\u001b[39m\u001b[38;5;241m.\u001b[39mmodel_inputs_generator)\n\u001b[0;32m--> 319\u001b[0m     [image, labels] \u001b[38;5;241m=\u001b[39m \u001b[38;5;28;43mself\u001b[39;49m\u001b[38;5;241;43m.\u001b[39;49m\u001b[43mlabels_to_image_model\u001b[49m\u001b[38;5;241;43m.\u001b[39;49m\u001b[43mpredict\u001b[49m\u001b[43m(\u001b[49m\u001b[43mmodel_inputs\u001b[49m\u001b[43m)\u001b[49m\n\u001b[1;32m    320\u001b[0m     \u001b[38;5;28;01myield\u001b[39;00m image, labels\n",
      "File \u001b[0;32m~/miniconda3/envs/seg_3.12/lib/python3.12/site-packages/keras/src/utils/traceback_utils.py:122\u001b[0m, in \u001b[0;36mfilter_traceback.<locals>.error_handler\u001b[0;34m(*args, **kwargs)\u001b[0m\n\u001b[1;32m    119\u001b[0m     filtered_tb \u001b[38;5;241m=\u001b[39m _process_traceback_frames(e\u001b[38;5;241m.\u001b[39m__traceback__)\n\u001b[1;32m    120\u001b[0m     \u001b[38;5;66;03m# To get the full stack trace, call:\u001b[39;00m\n\u001b[1;32m    121\u001b[0m     \u001b[38;5;66;03m# `keras.config.disable_traceback_filtering()`\u001b[39;00m\n\u001b[0;32m--> 122\u001b[0m     \u001b[38;5;28;01mraise\u001b[39;00m e\u001b[38;5;241m.\u001b[39mwith_traceback(filtered_tb) \u001b[38;5;28;01mfrom\u001b[39;00m \u001b[38;5;28;01mNone\u001b[39;00m\n\u001b[1;32m    123\u001b[0m \u001b[38;5;28;01mfinally\u001b[39;00m:\n\u001b[1;32m    124\u001b[0m     \u001b[38;5;28;01mdel\u001b[39;00m filtered_tb\n",
      "File \u001b[0;32m~/miniconda3/envs/seg_3.12/lib/python3.12/site-packages/tensorflow/python/eager/execute.py:53\u001b[0m, in \u001b[0;36mquick_execute\u001b[0;34m(op_name, num_outputs, inputs, attrs, ctx, name)\u001b[0m\n\u001b[1;32m     51\u001b[0m \u001b[38;5;28;01mtry\u001b[39;00m:\n\u001b[1;32m     52\u001b[0m   ctx\u001b[38;5;241m.\u001b[39mensure_initialized()\n\u001b[0;32m---> 53\u001b[0m   tensors \u001b[38;5;241m=\u001b[39m pywrap_tfe\u001b[38;5;241m.\u001b[39mTFE_Py_Execute(ctx\u001b[38;5;241m.\u001b[39m_handle, device_name, op_name,\n\u001b[1;32m     54\u001b[0m                                       inputs, attrs, num_outputs)\n\u001b[1;32m     55\u001b[0m \u001b[38;5;28;01mexcept\u001b[39;00m core\u001b[38;5;241m.\u001b[39m_NotOkStatusException \u001b[38;5;28;01mas\u001b[39;00m e:\n\u001b[1;32m     56\u001b[0m   \u001b[38;5;28;01mif\u001b[39;00m name \u001b[38;5;129;01mis\u001b[39;00m \u001b[38;5;129;01mnot\u001b[39;00m \u001b[38;5;28;01mNone\u001b[39;00m:\n",
      "\u001b[0;31mInvalidArgumentError\u001b[0m: Graph execution error:\n\nDetected at node functional_1_1/sample_conditional_gmm_1_1/ScatterNd defined at (most recent call last):\n  File \"<frozen runpy>\", line 198, in _run_module_as_main\n\n  File \"<frozen runpy>\", line 88, in _run_code\n\n  File \"/home/tommy/miniconda3/envs/seg_3.12/lib/python3.12/site-packages/ipykernel_launcher.py\", line 18, in <module>\n\n  File \"/home/tommy/miniconda3/envs/seg_3.12/lib/python3.12/site-packages/traitlets/config/application.py\", line 1075, in launch_instance\n\n  File \"/home/tommy/miniconda3/envs/seg_3.12/lib/python3.12/site-packages/ipykernel/kernelapp.py\", line 739, in start\n\n  File \"/home/tommy/miniconda3/envs/seg_3.12/lib/python3.12/site-packages/tornado/platform/asyncio.py\", line 205, in start\n\n  File \"/home/tommy/miniconda3/envs/seg_3.12/lib/python3.12/asyncio/base_events.py\", line 641, in run_forever\n\n  File \"/home/tommy/miniconda3/envs/seg_3.12/lib/python3.12/asyncio/base_events.py\", line 1987, in _run_once\n\n  File \"/home/tommy/miniconda3/envs/seg_3.12/lib/python3.12/asyncio/events.py\", line 88, in _run\n\n  File \"/home/tommy/miniconda3/envs/seg_3.12/lib/python3.12/site-packages/ipykernel/kernelbase.py\", line 545, in dispatch_queue\n\n  File \"/home/tommy/miniconda3/envs/seg_3.12/lib/python3.12/site-packages/ipykernel/kernelbase.py\", line 534, in process_one\n\n  File \"/home/tommy/miniconda3/envs/seg_3.12/lib/python3.12/site-packages/ipykernel/kernelbase.py\", line 437, in dispatch_shell\n\n  File \"/home/tommy/miniconda3/envs/seg_3.12/lib/python3.12/site-packages/ipykernel/ipkernel.py\", line 362, in execute_request\n\n  File \"/home/tommy/miniconda3/envs/seg_3.12/lib/python3.12/site-packages/ipykernel/kernelbase.py\", line 778, in execute_request\n\n  File \"/home/tommy/miniconda3/envs/seg_3.12/lib/python3.12/site-packages/ipykernel/ipkernel.py\", line 449, in do_execute\n\n  File \"/home/tommy/miniconda3/envs/seg_3.12/lib/python3.12/site-packages/ipykernel/zmqshell.py\", line 549, in run_cell\n\n  File \"/home/tommy/miniconda3/envs/seg_3.12/lib/python3.12/site-packages/IPython/core/interactiveshell.py\", line 3075, in run_cell\n\n  File \"/home/tommy/miniconda3/envs/seg_3.12/lib/python3.12/site-packages/IPython/core/interactiveshell.py\", line 3130, in _run_cell\n\n  File \"/home/tommy/miniconda3/envs/seg_3.12/lib/python3.12/site-packages/IPython/core/async_helpers.py\", line 128, in _pseudo_sync_runner\n\n  File \"/home/tommy/miniconda3/envs/seg_3.12/lib/python3.12/site-packages/IPython/core/interactiveshell.py\", line 3334, in run_cell_async\n\n  File \"/home/tommy/miniconda3/envs/seg_3.12/lib/python3.12/site-packages/IPython/core/interactiveshell.py\", line 3517, in run_ast_nodes\n\n  File \"/home/tommy/miniconda3/envs/seg_3.12/lib/python3.12/site-packages/IPython/core/interactiveshell.py\", line 3577, in run_code\n\n  File \"/tmp/ipykernel_470915/3672978274.py\", line 10, in <module>\n\n  File \"/home/tommy/repository/SynthSeg_3.12/SynthSeg/brain_generator.py\", line 324, in generate_brain\n\n  File \"/home/tommy/repository/SynthSeg_3.12/SynthSeg/brain_generator.py\", line 319, in _build_brain_generator\n\n  File \"/home/tommy/miniconda3/envs/seg_3.12/lib/python3.12/site-packages/keras/src/utils/traceback_utils.py\", line 117, in error_handler\n\n  File \"/home/tommy/miniconda3/envs/seg_3.12/lib/python3.12/site-packages/keras/src/backend/tensorflow/trainer.py\", line 512, in predict\n\n  File \"/home/tommy/miniconda3/envs/seg_3.12/lib/python3.12/site-packages/keras/src/backend/tensorflow/trainer.py\", line 208, in one_step_on_data_distributed\n\n  File \"/home/tommy/miniconda3/envs/seg_3.12/lib/python3.12/site-packages/keras/src/backend/tensorflow/trainer.py\", line 198, in one_step_on_data\n\n  File \"/home/tommy/miniconda3/envs/seg_3.12/lib/python3.12/site-packages/keras/src/backend/tensorflow/trainer.py\", line 96, in predict_step\n\n  File \"/home/tommy/miniconda3/envs/seg_3.12/lib/python3.12/site-packages/keras/src/utils/traceback_utils.py\", line 117, in error_handler\n\n  File \"/home/tommy/miniconda3/envs/seg_3.12/lib/python3.12/site-packages/keras/src/layers/layer.py\", line 901, in __call__\n\n  File \"/home/tommy/miniconda3/envs/seg_3.12/lib/python3.12/site-packages/keras/src/utils/traceback_utils.py\", line 117, in error_handler\n\n  File \"/home/tommy/miniconda3/envs/seg_3.12/lib/python3.12/site-packages/keras/src/ops/operation.py\", line 46, in __call__\n\n  File \"/home/tommy/miniconda3/envs/seg_3.12/lib/python3.12/site-packages/keras/src/utils/traceback_utils.py\", line 156, in error_handler\n\n  File \"/home/tommy/miniconda3/envs/seg_3.12/lib/python3.12/site-packages/keras/src/models/functional.py\", line 175, in call\n\n  File \"/home/tommy/miniconda3/envs/seg_3.12/lib/python3.12/site-packages/keras/src/ops/function.py\", line 171, in _run_through_graph\n\n  File \"/home/tommy/miniconda3/envs/seg_3.12/lib/python3.12/site-packages/keras/src/models/functional.py\", line 560, in call\n\n  File \"/home/tommy/miniconda3/envs/seg_3.12/lib/python3.12/site-packages/keras/src/utils/traceback_utils.py\", line 117, in error_handler\n\n  File \"/home/tommy/miniconda3/envs/seg_3.12/lib/python3.12/site-packages/keras/src/layers/layer.py\", line 901, in __call__\n\n  File \"/home/tommy/miniconda3/envs/seg_3.12/lib/python3.12/site-packages/keras/src/utils/traceback_utils.py\", line 117, in error_handler\n\n  File \"/home/tommy/miniconda3/envs/seg_3.12/lib/python3.12/site-packages/keras/src/ops/operation.py\", line 46, in __call__\n\n  File \"/home/tommy/miniconda3/envs/seg_3.12/lib/python3.12/site-packages/keras/src/utils/traceback_utils.py\", line 156, in error_handler\n\n  File \"/home/tommy/repository/SynthSeg_3.12/ext/lab2im/layers.py\", line 490, in call\n\nindices[0,0] = [-42] does not index into shape [148]\n\t [[{{node functional_1_1/sample_conditional_gmm_1_1/ScatterNd}}]] [Op:__inference_one_step_on_data_distributed_17138]"
     ]
    }
   ],
   "source": [
    "from ext.lab2im import utils\n",
    "from SynthSeg.brain_generator import BrainGenerator\n",
    "import os\n",
    "import tensorflow as tf\n",
    "\n",
    "\n",
    "\n",
    "# Disable all GPUs\n",
    "os.environ[\"CUDA_VISIBLE_DEVICES\"] = \"-1\"\n",
    "# generate an image from the label map.\n",
    "brain_generator = BrainGenerator('data/uwa_aaa/Patient1/re_combined_label.nii.gz')\n",
    "im, lab = brain_generator.generate_brain()\n",
    "\n",
    "# save output image and label map under SynthSeg/generated_examples\n"
   ]
  },
  {
   "cell_type": "code",
   "execution_count": 3,
   "metadata": {},
   "outputs": [],
   "source": [
    "import nibabel as nib\n",
    "from utils.nrrd2nii import nrrd2nii\n",
    "image = nrrd2nii(\"data/uwa_aaa/Patient1/Segmentation/CT_30%.nrrd\")\n",
    "image0 = nib.load(\"data/uwa_aaa/Patient1/combined_label.nii.gz\")\n",
    "# image1 = nib.load(\"data/training_label_maps/training_seg_01.nii.gz\")"
   ]
  },
  {
   "cell_type": "code",
   "execution_count": 5,
   "metadata": {},
   "outputs": [],
   "source": [
    "from utils.check_image import check_image\n",
    "check_image(\n",
    "    [\n",
    "        {\n",
    "            \"image\": image0,\n",
    "            \"title\": \"image\",\n",
    "            \"is_label\": True,\n",
    "        },\n",
    "        {\n",
    "            \"image\": image,\n",
    "            \"title\": \"image\",\n",
    "            \"is_label\": False,\n",
    "        },\n",
    "    ]\n",
    ")"
   ]
  },
  {
   "cell_type": "markdown",
   "metadata": {},
   "source": [
    "# Image Registration"
   ]
  },
  {
   "cell_type": "code",
   "execution_count": 4,
   "metadata": {},
   "outputs": [],
   "source": [
    "import nibabel as nib\n",
    "import numpy as np\n",
    "from scipy.ndimage import zoom\n",
    "from utils.nii_transform import nii_transform\n",
    "from utils.nrrd2nii import nrrd2nii\n",
    "from utils.check_image import check_image"
   ]
  },
  {
   "cell_type": "code",
   "execution_count": 5,
   "metadata": {},
   "outputs": [],
   "source": [
    "ref = nrrd2nii(\"data/uwa_aaa/Patient1/Segmentation/CT_30%.nrrd\")\n",
    "flo = nrrd2nii(\"data/uwa_aaa/Patient1/Segmentation/CT_cropped.nrrd\")"
   ]
  },
  {
   "cell_type": "code",
   "execution_count": 1,
   "metadata": {},
   "outputs": [],
   "source": [
    "import nibabel as nib\n",
    "import matplotlib.pyplot as plt\n",
    "from ipywidgets import interact, IntSlider, FloatText, Checkbox, FloatSlider\n",
    "\n",
    "from utils.nii_transform import label_transform\n",
    "\n",
    "\n",
    "def register_image(moving, static):\n",
    "    # Assume first image defines the dimensions\n",
    "    num_slices = static.shape[-1]\n",
    "    moving = moving.get_fdata()\n",
    "    static = static.get_fdata()\n",
    "\n",
    "    def display_slice(\n",
    "        slice_idx,\n",
    "        offset_x,\n",
    "        offset_y,\n",
    "        offset_z,\n",
    "        zoom_x,\n",
    "        zoom_y,\n",
    "        zoom_z,\n",
    "        flip_x,\n",
    "        flip_y,\n",
    "        flip_z,\n",
    "        alpha,\n",
    "    ):\n",
    "        plt.figure(figsize=(4, 4))\n",
    "        plt.axis(\"off\")\n",
    "        label = label_transform(\n",
    "            moving,\n",
    "            static.shape,\n",
    "            offset_x,\n",
    "            offset_y,\n",
    "            offset_z,\n",
    "            zoom_x,\n",
    "            zoom_y,\n",
    "            zoom_z,\n",
    "            flip_x,\n",
    "            flip_y,\n",
    "            flip_z,\n",
    "        )\n",
    "        plt.imshow(static[..., slice_idx], cmap=\"gray\")\n",
    "        plt.imshow(label[..., slice_idx], cmap=\"gray\", alpha=alpha)\n",
    "        plt.suptitle(f\"NIfTI Image Slice {slice_idx}\")\n",
    "        plt.show()\n",
    "\n",
    "    interact(\n",
    "        display_slice,\n",
    "        slice_idx=IntSlider(min=0, max=num_slices - 1, step=1, value=0),\n",
    "        offset_x=FloatText(value=0.0, description=\"Offset X:\"),\n",
    "        offset_y=FloatText(value=0.0, description=\"Offset Y:\"),\n",
    "        offset_z=FloatText(value=0.0, description=\"Offset Z:\"),\n",
    "        zoom_x=FloatText(value=1.0, description=\"Zoom X:\"),\n",
    "        zoom_y=FloatText(value=1.0, description=\"Zoom Y:\"),\n",
    "        zoom_z=FloatText(value=1.0, description=\"Zoom Z:\"),\n",
    "        flip_x=Checkbox(value=False, description=\"Flip X\"),\n",
    "        flip_y=Checkbox(value=False, description=\"Flip Y\"),\n",
    "        flip_z=Checkbox(value=False, description=\"Flip Z\"),\n",
    "        alpha=FloatSlider(min=0.0, max=1.0, step=0.1, value=0.5),\n",
    "    )"
   ]
  },
  {
   "cell_type": "code",
   "execution_count": 2,
   "metadata": {},
   "outputs": [
    {
     "ename": "NameError",
     "evalue": "name 'check_image' is not defined",
     "output_type": "error",
     "traceback": [
      "\u001b[0;31m---------------------------------------------------------------------------\u001b[0m",
      "\u001b[0;31mNameError\u001b[0m                                 Traceback (most recent call last)",
      "Cell \u001b[0;32mIn[2], line 3\u001b[0m\n\u001b[1;32m      1\u001b[0m \u001b[38;5;28;01mfrom\u001b[39;00m \u001b[38;5;21;01mutils\u001b[39;00m\u001b[38;5;21;01m.\u001b[39;00m\u001b[38;5;21;01mnii_flip\u001b[39;00m \u001b[38;5;28;01mimport\u001b[39;00m nii_flip\n\u001b[0;32m----> 3\u001b[0m \u001b[43mcheck_image\u001b[49m(\n\u001b[1;32m      4\u001b[0m     [\n\u001b[1;32m      5\u001b[0m         {\u001b[38;5;124m\"\u001b[39m\u001b[38;5;124mimage\u001b[39m\u001b[38;5;124m\"\u001b[39m: nii_flip(ref, [\u001b[38;5;241m0\u001b[39m, \u001b[38;5;241m1\u001b[39m]), \u001b[38;5;124m\"\u001b[39m\u001b[38;5;124mtitle\u001b[39m\u001b[38;5;124m\"\u001b[39m: \u001b[38;5;124m\"\u001b[39m\u001b[38;5;124mimage\u001b[39m\u001b[38;5;124m\"\u001b[39m},\n\u001b[1;32m      6\u001b[0m         {\u001b[38;5;124m\"\u001b[39m\u001b[38;5;124mimage\u001b[39m\u001b[38;5;124m\"\u001b[39m: flo, \u001b[38;5;124m\"\u001b[39m\u001b[38;5;124mtitle\u001b[39m\u001b[38;5;124m\"\u001b[39m: \u001b[38;5;124m\"\u001b[39m\u001b[38;5;124mimage\u001b[39m\u001b[38;5;124m\"\u001b[39m},\n\u001b[1;32m      7\u001b[0m     ]\n\u001b[1;32m      8\u001b[0m )\n",
      "\u001b[0;31mNameError\u001b[0m: name 'check_image' is not defined"
     ]
    }
   ],
   "source": [
    "from utils.nii_flip import nii_flip\n",
    "\n",
    "check_image(\n",
    "    [\n",
    "        {\"image\": nii_flip(ref, [0, 1]), \"title\": \"image\"},\n",
    "        {\"image\": flo, \"title\": \"image\"},\n",
    "    ]\n",
    ")"
   ]
  },
  {
   "cell_type": "code",
   "execution_count": 6,
   "metadata": {},
   "outputs": [
    {
     "data": {
      "application/vnd.jupyter.widget-view+json": {
       "model_id": "236285f74c61458281ed93a9b026e10b",
       "version_major": 2,
       "version_minor": 0
      },
      "text/plain": [
       "interactive(children=(IntSlider(value=0, description='slice_idx', max=280), FloatText(value=0.0, description='…"
      ]
     },
     "metadata": {},
     "output_type": "display_data"
    }
   ],
   "source": [
    "register_image(flo, ref)"
   ]
  },
  {
   "cell_type": "code",
   "execution_count": 31,
   "metadata": {},
   "outputs": [
    {
     "data": {
      "application/vnd.jupyter.widget-view+json": {
       "model_id": "1135199e71f2446bb18304b098d6a7ad",
       "version_major": 2,
       "version_minor": 0
      },
      "text/plain": [
       "interactive(children=(Checkbox(value=True, description='x'), FloatSlider(value=1.0, description='y', max=3.0, …"
      ]
     },
     "metadata": {},
     "output_type": "display_data"
    }
   ],
   "source": [
    "@interact(x=True, y=1.0)\n",
    "def g(x, y):\n",
    "    return (x, y)"
   ]
  },
  {
   "cell_type": "code",
   "execution_count": 44,
   "metadata": {},
   "outputs": [
    {
     "data": {
      "application/vnd.jupyter.widget-view+json": {
       "model_id": "8c47f39ab586484aa257fb5f899ed417",
       "version_major": 2,
       "version_minor": 0
      },
      "text/plain": [
       "HBox(children=(IntSlider(value=0), IntSlider(value=0), IntSlider(value=0)))"
      ]
     },
     "metadata": {},
     "output_type": "display_data"
    },
    {
     "data": {
      "application/vnd.jupyter.widget-view+json": {
       "model_id": "38cd0e33e2514f119ff895da5423f753",
       "version_major": 2,
       "version_minor": 0
      },
      "text/plain": [
       "Output()"
      ]
     },
     "metadata": {},
     "output_type": "display_data"
    }
   ],
   "source": [
    "from ipywidgets import IntSlider, HBox, interactive_output\n",
    "\n",
    "a = IntSlider()\n",
    "b = IntSlider()\n",
    "c = IntSlider()\n",
    "ui = HBox([a, b, c])\n",
    "def f(a, b, c):\n",
    "    print((a, b, c))\n",
    "\n",
    "out = interactive_output(f, {'a': a, 'b': b, 'c': c})\n",
    "\n",
    "display(ui, out)"
   ]
  },
  {
   "cell_type": "code",
   "execution_count": 40,
   "metadata": {},
   "outputs": [],
   "source": [
    "# https://pypi.org/project/torchreg/\n",
    "import torch\n",
    "from torchreg import AffineRegistration\n",
    "\n",
    "reg = AffineRegistration(\n",
    "    iterations=(3000, 100),\n",
    "    learning_rate=0.1,\n",
    "    with_rotation=False,\n",
    "    with_zoom=False,\n",
    "    with_shear=False,\n",
    ")"
   ]
  },
  {
   "cell_type": "code",
   "execution_count": 41,
   "metadata": {},
   "outputs": [
    {
     "name": "stderr",
     "output_type": "stream",
     "text": [
      "Shape: [1, 1, 64, 64, 113]; Dissimiliarity: 420423.6677505692:  42%|████▏     | 1274/3000 [00:10<00:14, 119.92it/s] \n"
     ]
    },
    {
     "ename": "KeyboardInterrupt",
     "evalue": "",
     "output_type": "error",
     "traceback": [
      "\u001b[0;31m---------------------------------------------------------------------------\u001b[0m",
      "\u001b[0;31mKeyboardInterrupt\u001b[0m                         Traceback (most recent call last)",
      "Cell \u001b[0;32mIn[41], line 2\u001b[0m\n\u001b[1;32m      1\u001b[0m f_flo \u001b[38;5;241m=\u001b[39m nii_transform(flo, \u001b[38;5;28;01mlambda\u001b[39;00m x: np\u001b[38;5;241m.\u001b[39mflip(x, [\u001b[38;5;241m0\u001b[39m, \u001b[38;5;241m1\u001b[39m]))\n\u001b[0;32m----> 2\u001b[0m moved_alice \u001b[38;5;241m=\u001b[39m \u001b[43mreg\u001b[49m\u001b[43m(\u001b[49m\n\u001b[1;32m      3\u001b[0m \u001b[43m    \u001b[49m\u001b[43mtorch\u001b[49m\u001b[38;5;241;43m.\u001b[39;49m\u001b[43mtensor\u001b[49m\u001b[43m(\u001b[49m\u001b[43mf_flo\u001b[49m\u001b[38;5;241;43m.\u001b[39;49m\u001b[43mget_fdata\u001b[49m\u001b[43m(\u001b[49m\u001b[43m)\u001b[49m\u001b[43m)\u001b[49m\u001b[43m[\u001b[49m\u001b[38;5;28;43;01mNone\u001b[39;49;00m\u001b[43m,\u001b[49m\u001b[43m \u001b[49m\u001b[38;5;28;43;01mNone\u001b[39;49;00m\u001b[43m]\u001b[49m\u001b[38;5;241;43m.\u001b[39;49m\u001b[43mcuda\u001b[49m\u001b[43m(\u001b[49m\u001b[43m)\u001b[49m\u001b[43m,\u001b[49m\n\u001b[1;32m      4\u001b[0m \u001b[43m    \u001b[49m\u001b[43mtorch\u001b[49m\u001b[38;5;241;43m.\u001b[39;49m\u001b[43mtensor\u001b[49m\u001b[43m(\u001b[49m\u001b[43mref\u001b[49m\u001b[38;5;241;43m.\u001b[39;49m\u001b[43mget_fdata\u001b[49m\u001b[43m(\u001b[49m\u001b[43m)\u001b[49m\u001b[43m)\u001b[49m\u001b[43m[\u001b[49m\u001b[38;5;28;43;01mNone\u001b[39;49;00m\u001b[43m,\u001b[49m\u001b[43m \u001b[49m\u001b[38;5;28;43;01mNone\u001b[39;49;00m\u001b[43m]\u001b[49m\u001b[38;5;241;43m.\u001b[39;49m\u001b[43mcuda\u001b[49m\u001b[43m(\u001b[49m\u001b[43m)\u001b[49m\u001b[43m,\u001b[49m\n\u001b[1;32m      5\u001b[0m \u001b[43m)\u001b[49m\n",
      "File \u001b[0;32m~/miniconda3/envs/seg_3.12/lib/python3.12/site-packages/torchreg/affine.py:36\u001b[0m, in \u001b[0;36mAffineRegistration.__call__\u001b[0;34m(self, moving, static, return_moved)\u001b[0m\n\u001b[1;32m     34\u001b[0m     moving_small \u001b[38;5;241m=\u001b[39m F\u001b[38;5;241m.\u001b[39minterpolate(moving_, scale_factor\u001b[38;5;241m=\u001b[39m\u001b[38;5;241m1\u001b[39m \u001b[38;5;241m/\u001b[39m scale, \u001b[38;5;241m*\u001b[39m\u001b[38;5;241m*\u001b[39minterp_kwargs)\n\u001b[1;32m     35\u001b[0m     static_small \u001b[38;5;241m=\u001b[39m F\u001b[38;5;241m.\u001b[39minterpolate(static, scale_factor\u001b[38;5;241m=\u001b[39m\u001b[38;5;241m1\u001b[39m \u001b[38;5;241m/\u001b[39m scale, \u001b[38;5;241m*\u001b[39m\u001b[38;5;241m*\u001b[39minterp_kwargs)\n\u001b[0;32m---> 36\u001b[0m     \u001b[38;5;28;43mself\u001b[39;49m\u001b[38;5;241;43m.\u001b[39;49m\u001b[43m_fit\u001b[49m\u001b[43m(\u001b[49m\u001b[43mmoving_small\u001b[49m\u001b[43m,\u001b[49m\u001b[43m \u001b[49m\u001b[43mstatic_small\u001b[49m\u001b[43m,\u001b[49m\u001b[43m \u001b[49m\u001b[43miters\u001b[49m\u001b[43m)\u001b[49m\n\u001b[1;32m     37\u001b[0m \u001b[38;5;28;01mreturn\u001b[39;00m \u001b[38;5;28mself\u001b[39m\u001b[38;5;241m.\u001b[39mtransform(moving, static\u001b[38;5;241m.\u001b[39mshape[\u001b[38;5;241m2\u001b[39m:])\u001b[38;5;241m.\u001b[39mdetach() \u001b[38;5;28;01mif\u001b[39;00m return_moved \u001b[38;5;28;01melse\u001b[39;00m \u001b[38;5;28;01mNone\u001b[39;00m\n",
      "File \u001b[0;32m~/miniconda3/envs/seg_3.12/lib/python3.12/site-packages/torchreg/affine.py:46\u001b[0m, in \u001b[0;36mAffineRegistration._fit\u001b[0;34m(self, moving, static, iterations)\u001b[0m\n\u001b[1;32m     44\u001b[0m moved \u001b[38;5;241m=\u001b[39m \u001b[38;5;28mself\u001b[39m\u001b[38;5;241m.\u001b[39mtransform(moving, static\u001b[38;5;241m.\u001b[39mshape[\u001b[38;5;241m2\u001b[39m:], with_grad\u001b[38;5;241m=\u001b[39m\u001b[38;5;28;01mTrue\u001b[39;00m)\n\u001b[1;32m     45\u001b[0m loss \u001b[38;5;241m=\u001b[39m \u001b[38;5;28mself\u001b[39m\u001b[38;5;241m.\u001b[39mdissimilarity_function(moved, static)\n\u001b[0;32m---> 46\u001b[0m progress_bar\u001b[38;5;241m.\u001b[39mset_description(\u001b[38;5;124mf\u001b[39m\u001b[38;5;124m'\u001b[39m\u001b[38;5;124mShape: \u001b[39m\u001b[38;5;132;01m{\u001b[39;00m[\u001b[38;5;241m*\u001b[39mstatic\u001b[38;5;241m.\u001b[39mshape]\u001b[38;5;132;01m}\u001b[39;00m\u001b[38;5;124m; Dissimiliarity: \u001b[39m\u001b[38;5;132;01m{\u001b[39;00m\u001b[43mloss\u001b[49m\u001b[38;5;241;43m.\u001b[39;49m\u001b[43mitem\u001b[49m\u001b[43m(\u001b[49m\u001b[43m)\u001b[49m\u001b[38;5;132;01m}\u001b[39;00m\u001b[38;5;124m'\u001b[39m)\n\u001b[1;32m     47\u001b[0m loss\u001b[38;5;241m.\u001b[39mbackward()\n\u001b[1;32m     48\u001b[0m optimizer\u001b[38;5;241m.\u001b[39mstep()\n",
      "\u001b[0;31mKeyboardInterrupt\u001b[0m: "
     ]
    }
   ],
   "source": [
    "f_flo = nii_transform(flo, lambda x: np.flip(x, [0, 1]))\n",
    "moved_alice = reg(\n",
    "    torch.tensor(f_flo.get_fdata())[None, None].cuda(),\n",
    "    torch.tensor(ref.get_fdata())[None, None].cuda(),\n",
    ")"
   ]
  },
  {
   "cell_type": "code",
   "execution_count": 37,
   "metadata": {},
   "outputs": [],
   "source": [
    "nii_image = nib.Nifti1Image(moved_alice[0, 0].cpu().detach().numpy(), flo.affine)"
   ]
  },
  {
   "cell_type": "code",
   "execution_count": 38,
   "metadata": {},
   "outputs": [
    {
     "data": {
      "text/plain": [
       "(256, 256, 452)"
      ]
     },
     "execution_count": 38,
     "metadata": {},
     "output_type": "execute_result"
    }
   ],
   "source": [
    "nii_image.get_fdata().shape"
   ]
  },
  {
   "cell_type": "code",
   "execution_count": 39,
   "metadata": {},
   "outputs": [
    {
     "data": {
      "application/vnd.jupyter.widget-view+json": {
       "model_id": "9068557309ea463ba9b7cabd04ac0e4b",
       "version_major": 2,
       "version_minor": 0
      },
      "text/plain": [
       "interactive(children=(IntSlider(value=0, description='slice_idx', max=451), Output()), _dom_classes=('widget-i…"
      ]
     },
     "metadata": {},
     "output_type": "display_data"
    }
   ],
   "source": [
    "from utils.check_image import check_image\n",
    "\n",
    "check_image(\n",
    "    [\n",
    "        {\n",
    "            \"image\": nii_image,\n",
    "            \"title\": \"image\",\n",
    "        }\n",
    "    ]\n",
    ")"
   ]
  },
  {
   "cell_type": "code",
   "execution_count": 17,
   "metadata": {},
   "outputs": [],
   "source": [
    "nib.save(ref, \"temp/ref.nii.gz\")\n",
    "nib.save(\n",
    "    nii_transform(flo, lambda x: np.flip(zoom(x, [0.7, 0.7, 1]), [0, 1])),\n",
    "    \"temp/flo.nii.gz\",\n",
    ")"
   ]
  },
  {
   "cell_type": "code",
   "execution_count": 18,
   "metadata": {},
   "outputs": [
    {
     "data": {
      "application/vnd.jupyter.widget-view+json": {
       "model_id": "6f2af644acac4a2f9913c8b901de7825",
       "version_major": 2,
       "version_minor": 0
      },
      "text/plain": [
       "interactive(children=(IntSlider(value=0, description='slice_idx', max=125), Output()), _dom_classes=('widget-i…"
      ]
     },
     "metadata": {},
     "output_type": "display_data"
    }
   ],
   "source": [
    "check_image(\n",
    "    [\n",
    "        {\n",
    "            \"image\": nii_transform(flo, lambda x: np.flip(zoom(x, [1, 1, 1]), [0, 1])),\n",
    "            \"title\": \"image\",\n",
    "        }\n",
    "    ]\n",
    ")"
   ]
  },
  {
   "cell_type": "code",
   "execution_count": 19,
   "metadata": {},
   "outputs": [
    {
     "data": {
      "application/vnd.jupyter.widget-view+json": {
       "model_id": "559047f0aca54e10856edef642d7063e",
       "version_major": 2,
       "version_minor": 0
      },
      "text/plain": [
       "interactive(children=(IntSlider(value=0, description='slice_idx', max=280), Output()), _dom_classes=('widget-i…"
      ]
     },
     "metadata": {},
     "output_type": "display_data"
    }
   ],
   "source": [
    "check_image(\n",
    "    [\n",
    "        {\n",
    "            \"image\": ref,\n",
    "            \"title\": \"image\",\n",
    "        }\n",
    "    ]\n",
    ")"
   ]
  },
  {
   "cell_type": "code",
   "execution_count": 20,
   "metadata": {},
   "outputs": [
    {
     "name": "stdout",
     "output_type": "stream",
     "text": [
      "[/home/tommy/miniconda3/envs/seg_3.12/lib/python3.12/site-packages/niftyreg/bin/reg_aladin] \n",
      "[/home/tommy/miniconda3/envs/seg_3.12/lib/python3.12/site-packages/niftyreg/bin/reg_aladin] Command line:\n",
      "[/home/tommy/miniconda3/envs/seg_3.12/lib/python3.12/site-packages/niftyreg/bin/reg_aladin] \t /home/tommy/miniconda3/envs/seg_3.12/lib/python3.12/site-packages/niftyreg/bin/reg_aladin -ref temp/ref.nii.gz -flo temp/flo.nii.gz -res temp/out.nii.gz -noSym -rigOnly\n",
      "[/home/tommy/miniconda3/envs/seg_3.12/lib/python3.12/site-packages/niftyreg/bin/reg_aladin] \n",
      "[/home/tommy/miniconda3/envs/seg_3.12/lib/python3.12/site-packages/niftyreg/bin/reg_aladin] OpenMP is used with 12 thread(s)\n",
      "[Aladin] Parameters\n",
      "[Aladin] Platform: cpu_platform\n",
      "[Aladin] Reference image name: temp/ref.nii.gz\n",
      "[Aladin] \t512x512x281 voxels\n",
      "[Aladin] \t1x1x1 mm\n",
      "[Aladin] Floating image name: temp/flo.nii.gz\n",
      "[Aladin] \t77x73x126 voxels\n",
      "[Aladin] \t1x1x1 mm\n",
      "[Aladin] Maximum iteration number: 5\n",
      "[Aladin] \t(10 during the first level)\n",
      "[Aladin] Percentage of blocks: 50 %\n",
      "[Aladin] * * * * * * * * * * * * * * * * * * * * * * * * * * * * * *\n",
      "[Aladin] Current level 1 / 3\n",
      "[Aladin] reference image size: \t128x128x71 voxels\t4x4x4 mm\n",
      "[Aladin] floating image size: \t39x37x63 voxels\t2x2x2 mm\n",
      "[Aladin] Block size = [4 4 4]\n",
      "[Aladin] * * * * * * * * * * * * * * * * * * * * * * * * * * * * * *\n",
      "[Aladin] Block number = [32 32 18]\n",
      "[reg_aladin] Initial transformation matrix::\n",
      "1\t0\t0\t-217.5\n",
      "0\t1\t0\t-219.5\n",
      "0\t0\t1\t-77.5\n",
      "0\t0\t0\t1\n",
      "[reg_aladin] Final transformation matrix::\n",
      "0.8958704\t0.09329266\t-0.4344107\t-171.9995\n",
      "-0.2614645\t0.901192\t-0.3456721\t-109.0682\n",
      "0.3592388\t0.4232604\t0.831744\t-272.1922\n",
      "0\t0\t0\t1\n",
      "[Aladin] - - - - - - - - - - - - - - - - - - - - - - - - - - - - - -\n",
      "[Aladin] Current level 2 / 3\n",
      "[Aladin] reference image size: \t256x256x141 voxels\t2x2x2 mm\n",
      "[Aladin] floating image size: \t39x37x63 voxels\t2x2x2 mm\n",
      "[Aladin] Block size = [4 4 4]\n",
      "[Aladin] * * * * * * * * * * * * * * * * * * * * * * * * * * * * * *\n",
      "[Aladin] Block number = [64 64 36]\n",
      "[reg_aladin] Initial transformation matrix::\n",
      "0.8958704\t0.09329266\t-0.4344107\t-171.9995\n",
      "-0.2614645\t0.901192\t-0.3456721\t-109.0682\n",
      "0.3592388\t0.4232604\t0.831744\t-272.1922\n",
      "0\t0\t0\t1\n",
      "[reg_aladin] Final transformation matrix::\n",
      "0.9047844\t0.1486014\t-0.3991026\t-198.1494\n",
      "-0.2705243\t0.9243307\t-0.2691271\t-126.8214\n",
      "0.3289101\t0.351469\t0.8765202\t-248.9427\n",
      "0\t0\t0\t1\n",
      "[Aladin] - - - - - - - - - - - - - - - - - - - - - - - - - - - - - -\n",
      "[Aladin] Current level 3 / 3\n",
      "[Aladin] reference image size: \t512x512x281 voxels\t1x1x1 mm\n",
      "[Aladin] floating image size: \t77x73x126 voxels\t1x1x1 mm\n",
      "[Aladin] Block size = [4 4 4]\n",
      "[Aladin] * * * * * * * * * * * * * * * * * * * * * * * * * * * * * *\n",
      "[Aladin] Block number = [128 128 71]\n",
      "[reg_aladin] Initial transformation matrix::\n",
      "0.9047844\t0.1486014\t-0.3991026\t-198.1494\n",
      "-0.2705243\t0.9243307\t-0.2691271\t-126.8214\n",
      "0.3289101\t0.351469\t0.8765202\t-248.9427\n",
      "0\t0\t0\t1\n",
      "[reg_aladin] Final transformation matrix::\n",
      "0.8915752\t0.1727996\t-0.4186096\t-198.1059\n",
      "-0.305086\t0.9122974\t-0.273196\t-116.7108\n",
      "0.3346883\t0.3712867\t0.8661004\t-253.8766\n",
      "0\t0\t0\t1\n",
      "[Aladin] - - - - - - - - - - - - - - - - - - - - - - - - - - - - - -\n",
      "[/home/tommy/miniconda3/envs/seg_3.12/lib/python3.12/site-packages/niftyreg/bin/reg_aladin] Registration performed in 0 min 28 sec\n",
      "[/home/tommy/miniconda3/envs/seg_3.12/lib/python3.12/site-packages/niftyreg/bin/reg_aladin] Have a good day !\n"
     ]
    }
   ],
   "source": [
    "# https://pypi.org/project/niftyreg/\n",
    "# http://cmictig.cs.ucl.ac.uk/wiki/index.php/Reg_aladin\n",
    "import niftyreg\n",
    "\n",
    "niftyreg.main(\n",
    "    [\n",
    "        \"aladin\",\n",
    "        \"-ref\",\n",
    "        \"temp/ref.nii.gz\",\n",
    "        \"-flo\",\n",
    "        \"temp/flo.nii.gz\",\n",
    "        \"-res\",\n",
    "        \"temp/out.nii.gz\",\n",
    "        \"-noSym\",\n",
    "        \"-rigOnly\",\n",
    "    ]\n",
    ")"
   ]
  },
  {
   "cell_type": "code",
   "execution_count": 7,
   "metadata": {},
   "outputs": [
    {
     "data": {
      "application/vnd.jupyter.widget-view+json": {
       "model_id": "bbe6663b8339479d999f9b8cbbbeed28",
       "version_major": 2,
       "version_minor": 0
      },
      "text/plain": [
       "interactive(children=(IntSlider(value=0, description='slice_idx', max=451), Output()), _dom_classes=('widget-i…"
      ]
     },
     "metadata": {},
     "output_type": "display_data"
    }
   ],
   "source": [
    "from utils.check_image import check_image\n",
    "from utils.nrrd2nii import nrrd2nii\n",
    "from utils.nii_transform import nii_transform\n",
    "import nibabel as nib\n",
    "import numpy as np\n",
    "from scipy.ndimage import zoom\n",
    "\n",
    "ref = nrrd2nii(\"data/uwa_aaa/Patient6/Segmentation/CT_30%.nrrd\")\n",
    "out = nib.load(\"temp/out.nii.gz\")\n",
    "\n",
    "check_image(\n",
    "    [\n",
    "        {\n",
    "            \"image\": ref,\n",
    "            \"title\": \"out\",\n",
    "            \"overlay\": nii_transform(out, lambda data: zoom(data, [0.5, 0.5, 2])),\n",
    "        },\n",
    "        {\"image\": ref, \"title\": \"ref\"},\n",
    "        {\n",
    "            \"image\": nii_transform(out, lambda data: zoom(data, [0.5, 0.5, 2])),\n",
    "            \"title\": \"out\",\n",
    "        },\n",
    "    ]\n",
    ")"
   ]
  },
  {
   "cell_type": "code",
   "execution_count": 3,
   "metadata": {},
   "outputs": [
    {
     "data": {
      "text/plain": [
       "(256, 256, 452)"
      ]
     },
     "execution_count": 3,
     "metadata": {},
     "output_type": "execute_result"
    }
   ],
   "source": [
    "ref.get_fdata().shape"
   ]
  },
  {
   "cell_type": "code",
   "execution_count": 33,
   "metadata": {},
   "outputs": [
    {
     "data": {
      "text/plain": [
       "(256, 256, 452)"
      ]
     },
     "execution_count": 33,
     "metadata": {},
     "output_type": "execute_result"
    }
   ],
   "source": [
    "out.get_fdata().shape"
   ]
  },
  {
   "cell_type": "code",
   "execution_count": 34,
   "metadata": {},
   "outputs": [
    {
     "data": {
      "text/plain": [
       "(256, 256, 452)"
      ]
     },
     "execution_count": 34,
     "metadata": {},
     "output_type": "execute_result"
    }
   ],
   "source": [
    "ref.get_fdata().shape"
   ]
  },
  {
   "cell_type": "code",
   "execution_count": 9,
   "metadata": {},
   "outputs": [
    {
     "data": {
      "text/plain": [
       "(74, 78, 113)"
      ]
     },
     "execution_count": 9,
     "metadata": {},
     "output_type": "execute_result"
    }
   ],
   "source": [
    "flo.get_fdata().shape"
   ]
  },
  {
   "cell_type": "code",
   "execution_count": null,
   "metadata": {},
   "outputs": [],
   "source": [
    "import deep"
   ]
  }
 ],
 "metadata": {
  "kernelspec": {
   "display_name": "next-synthseg",
   "language": "python",
   "name": "python3"
  },
  "language_info": {
   "codemirror_mode": {
    "name": "ipython",
    "version": 3
   },
   "file_extension": ".py",
   "mimetype": "text/x-python",
   "name": "python",
   "nbconvert_exporter": "python",
   "pygments_lexer": "ipython3",
   "version": "3.12.0"
  }
 },
 "nbformat": 4,
 "nbformat_minor": 2
}
