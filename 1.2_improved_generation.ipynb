{
 "cells": [
  {
   "cell_type": "markdown",
   "metadata": {},
   "source": [
    "# Noised SynthSeg\n",
    "env: python3.8 tensorflow"
   ]
  },
  {
   "cell_type": "code",
   "execution_count": 35,
   "metadata": {},
   "outputs": [
    {
     "data": {
      "image/png": "[encoded data removed]",
      "text/plain": [
       "<Figure size 640x480 with 2 Axes>"
      ]
     },
     "metadata": {},
     "output_type": "display_data"
    },
    {
     "name": "stdout",
     "output_type": "stream",
     "text": [
      "Density array shape: (64, 64, 64)\n",
      "Max density: 0.7927175164222717\n",
      "Min density: 0.0\n"
     ]
    }
   ],
   "source": [
    "import numpy as np\n",
    "import noise  # For Perlin Noise\n",
    "import matplotlib.pyplot as plt  # For visualization (optional)\n",
    "\n",
    "# Parameters\n",
    "grid_size = 64  # Size of the 3D grid (e.g., 64x64x64)\n",
    "scale = 5.5    # Noise scale (larger values = smoother clouds)\n",
    "octaves = 6     # Number of noise layers\n",
    "persistence = 0.5  # Amplitude reduction per octave\n",
    "lacunarity =2   # Frequency increase per octave\n",
    "threshold = 0.55    # Density threshold for cloud presence\n",
    "\n",
    "# Create a 3D grid of coordinates\n",
    "x = np.linspace(0, scale, grid_size)\n",
    "y = np.linspace(0, scale, grid_size)\n",
    "z = np.linspace(0, scale, grid_size)\n",
    "X, Y, Z = np.meshgrid(x, y, z)  # 3D coordinate arrays\n",
    "\n",
    "# Initialize the density array\n",
    "density = np.zeros((grid_size, grid_size, grid_size))\n",
    "\n",
    "# Generate Perlin Noise with octaves\n",
    "for i in range(grid_size):\n",
    "    for j in range(grid_size):\n",
    "        for k in range(grid_size):\n",
    "            # Base noise value at this position\n",
    "            value = noise.pnoise3(\n",
    "                X[i, j, k], Y[i, j, k], Z[i, j, k],\n",
    "                octaves=octaves,\n",
    "                persistence=persistence,\n",
    "                lacunarity=lacunarity,\n",
    "                repeatx=grid_size,\n",
    "                repeaty=grid_size,\n",
    "                repeatz=grid_size,\n",
    "                base=42  # Seed for reproducibility\n",
    "            )\n",
    "            # Normalize noise from [-1, 1] to [0, 1]\n",
    "            value = (value + 1) / 2\n",
    "            density[i, j, k] = value\n",
    "\n",
    "# Apply threshold to define cloud boundaries\n",
    "density = np.where(density > threshold, density, 0)\n",
    "\n",
    "# Optional: Visualize a 2D slice of the 3D density field\n",
    "slice_2d = density[:, :, grid_size // 2]  # Take a middle slice along Z-axis\n",
    "plt.imshow(slice_2d, cmap='gray')\n",
    "plt.title(\"2D Slice of 3D Cloud Density\")\n",
    "plt.colorbar(label=\"Density\")\n",
    "plt.show()\n",
    "\n",
    "# The `density` array now contains the 3D cloud data\n",
    "print(\"Density array shape:\", density.shape)\n",
    "print(\"Max density:\", np.max(density))\n",
    "print(\"Min density:\", np.min(density))"
   ]
  },
  {
   "cell_type": "code",
   "execution_count": 12,
   "metadata": {},
   "outputs": [
    {
     "data": {
      "application/vnd.jupyter.widget-view+json": {
       "model_id": "b1d85177aa114ff7a6db673f337050b5",
       "version_major": 2,
       "version_minor": 0
      },
      "text/plain": [
       "interactive(children=(IntSlider(value=0, description='slice_index_0', max=63), Output()), _dom_classes=('widge…"
      ]
     },
     "metadata": {},
     "output_type": "display_data"
    }
   ],
   "source": [
    "from utils.check_image import check_image\n",
    "\n",
    "check_image(\n",
    "    [\n",
    "        {\"image\": density, \"title\": \"image\", \"is_label\": False},\n",
    "    ]\n",
    ")"
   ]
  },
  {
   "cell_type": "code",
   "execution_count": 1,
   "metadata": {},
   "outputs": [],
   "source": [
    "# import and constant\n",
    "import os\n",
    "import numpy as np\n",
    "import nibabel as nib\n",
    "from utils.nrrd2nii import nrrd2nii\n",
    "\n",
    "source_path = \"data/uwa_aaa\"\n",
    "combined_path = \"data/uwa_aaa_combined\"\n",
    "# generation\n",
    "image_path = \"data/Dataset001_aaa/imagesTr\"\n",
    "label_path = \"data/Dataset001_aaa/labelsTr\"\n"
   ]
  },
  {
   "cell_type": "markdown",
   "metadata": {},
   "source": [
    "# Generation Preprocess"
   ]
  },
  {
   "cell_type": "code",
   "execution_count": 25,
   "metadata": {},
   "outputs": [],
   "source": [
    "\n",
    "os.makedirs(combined_path, exist_ok=True)\n",
    "\n",
    "for patient_folder in sorted(os.listdir(source_path))[:5]:\n",
    "    patient_path = os.path.join(source_path, patient_folder)\n",
    "    aaa_label = None\n",
    "    blood_label = None\n",
    "    for root, dirs, files in os.walk(patient_path):\n",
    "        for file in files:\n",
    "            if file == \"CT_AAA_label.nrrd\":\n",
    "                aaa_label = nrrd2nii(os.path.join(root, file)).get_fdata()\n",
    "                assert (\n",
    "                    len(np.unique(aaa_label)) == 2\n",
    "                ), f\"Patient {patient_folder} label error\"\n",
    "                highest_label = np.max(aaa_label)\n",
    "                aaa_label[aaa_label == highest_label] = 1\n",
    "\n",
    "            if file == \"CT_blood_label.nrrd\":\n",
    "                blood_label = nrrd2nii(os.path.join(root, file)).get_fdata()\n",
    "                assert (\n",
    "                    len(np.unique(blood_label)) == 2\n",
    "                ), f\"Patient {patient_folder} label error\"\n",
    "                highest_label = np.max(blood_label)\n",
    "                blood_label[blood_label == highest_label] = 1\n",
    "\n",
    "    assert (aaa_label is not None) and (\n",
    "        blood_label is not None\n",
    "    ), f\"Patient {patient_folder} label uncompleted\"\n",
    "\n",
    "    combined_label = np.zeros_like(aaa_label)\n",
    "    combined_label[aaa_label == 1] = 1\n",
    "    combined_label[blood_label == 1] = 2\n",
    "    \n",
    "    # if shape contains singular, make it even\n",
    "    padding = []\n",
    "    for dim in combined_label.shape:\n",
    "        if dim % 2 == 1:\n",
    "            padding.append(1)\n",
    "        else:\n",
    "            padding.append(0)\n",
    "    combined_label = np.pad(\n",
    "        combined_label,\n",
    "        ((0, padding[0]), (0, padding[1]), (0, padding[2])),\n",
    "        mode=\"constant\",\n",
    "    )\n",
    "    \n",
    "    label_nii = nib.Nifti1Image(combined_label, np.eye(4))\n",
    "    nib.save(label_nii, os.path.join(combined_path, f\"{patient_folder}_combined.nii.gz\"))"
   ]
  },
  {
   "cell_type": "markdown",
   "metadata": {},
   "source": [
    "# Generation"
   ]
  },
  {
   "cell_type": "code",
   "execution_count": 1,
   "metadata": {},
   "outputs": [
    {
     "name": "stderr",
     "output_type": "stream",
     "text": [
      "Using TensorFlow backend.\n"
     ]
    },
    {
     "name": "stdout",
     "output_type": "stream",
     "text": [
      "here data/uwa_aaa_combined/Patient1_combined.nii.gz\n",
      "Compiling list of unique labels\n",
      "processing 1/1\n"
     ]
    },
    {
     "name": "stderr",
     "output_type": "stream",
     "text": [
      "2025-03-31 15:51:17.648175: I tensorflow/stream_executor/platform/default/dso_loader.cc:44] Successfully opened dynamic library libcuda.so.1\n",
      "2025-03-31 15:51:17.672929: E tensorflow/stream_executor/cuda/cuda_gpu_executor.cc:967] could not open file to read NUMA node: /sys/bus/pci/devices/0000:01:00.0/numa_node\n",
      "Your kernel may have been built without NUMA support.\n",
      "2025-03-31 15:51:17.672964: I tensorflow/core/common_runtime/gpu/gpu_device.cc:1561] Found device 0 with properties: \n",
      "pciBusID: 0000:01:00.0 name: NVIDIA GeForce RTX 3070 computeCapability: 8.6\n",
      "coreClock: 1.755GHz coreCount: 46 deviceMemorySize: 8.00GiB deviceMemoryBandwidth: 417.29GiB/s\n",
      "2025-03-31 15:51:17.673069: W tensorflow/stream_executor/platform/default/dso_loader.cc:55] Could not load dynamic library 'libcudart.so.10.1'; dlerror: libcudart.so.10.1: cannot open shared object file: No such file or directory\n",
      "2025-03-31 15:51:17.673115: W tensorflow/stream_executor/platform/default/dso_loader.cc:55] Could not load dynamic library 'libcublas.so.10'; dlerror: libcublas.so.10: cannot open shared object file: No such file or directory\n",
      "2025-03-31 15:51:17.689314: I tensorflow/stream_executor/platform/default/dso_loader.cc:44] Successfully opened dynamic library libcufft.so.10\n",
      "2025-03-31 15:51:17.689789: I tensorflow/stream_executor/platform/default/dso_loader.cc:44] Successfully opened dynamic library libcurand.so.10\n",
      "2025-03-31 15:51:17.689882: W tensorflow/stream_executor/platform/default/dso_loader.cc:55] Could not load dynamic library 'libcusolver.so.10'; dlerror: libcusolver.so.10: cannot open shared object file: No such file or directory\n",
      "2025-03-31 15:51:17.689913: W tensorflow/stream_executor/platform/default/dso_loader.cc:55] Could not load dynamic library 'libcusparse.so.10'; dlerror: libcusparse.so.10: cannot open shared object file: No such file or directory\n",
      "2025-03-31 15:51:17.689945: W tensorflow/stream_executor/platform/default/dso_loader.cc:55] Could not load dynamic library 'libcudnn.so.7'; dlerror: libcudnn.so.7: cannot open shared object file: No such file or directory\n",
      "2025-03-31 15:51:17.689952: W tensorflow/core/common_runtime/gpu/gpu_device.cc:1598] Cannot dlopen some GPU libraries. Please make sure the missing libraries mentioned above are installed properly if you would like to use GPU. Follow the guide at https://www.tensorflow.org/install/gpu for how to download and setup the required libraries for your platform.\n",
      "Skipping registering GPU devices...\n",
      "2025-03-31 15:51:17.691246: I tensorflow/core/platform/cpu_feature_guard.cc:143] Your CPU supports instructions that this TensorFlow binary was not compiled to use: AVX2 FMA\n",
      "2025-03-31 15:51:17.696352: I tensorflow/core/platform/profile_utils/cpu_utils.cc:102] CPU Frequency: 2495995000 Hz\n",
      "2025-03-31 15:51:17.696983: I tensorflow/compiler/xla/service/service.cc:168] XLA service 0x7fb6d4000b70 initialized for platform Host (this does not guarantee that XLA will be used). Devices:\n",
      "2025-03-31 15:51:17.696998: I tensorflow/compiler/xla/service/service.cc:176]   StreamExecutor device (0): Host, Default Version\n",
      "2025-03-31 15:51:17.697951: I tensorflow/core/common_runtime/gpu/gpu_device.cc:1102] Device interconnect StreamExecutor with strength 1 edge matrix:\n",
      "2025-03-31 15:51:17.697961: I tensorflow/core/common_runtime/gpu/gpu_device.cc:1108]      \n"
     ]
    }
   ],
   "source": [
    "# import and constant\n",
    "import os\n",
    "import numpy as np\n",
    "import nibabel as nib\n",
    "from utils.nrrd2nii import nrrd2nii\n",
    "\n",
    "source_path = \"data/uwa_aaa\"\n",
    "combined_path = \"data/uwa_aaa_combined\"\n",
    "# generation\n",
    "image_path = \"data/Dataset001_aaa/imagesTr\"\n",
    "label_path = \"data/Dataset001_aaa/labelsTr\"\n",
    "\n",
    "import sys\n",
    "import os\n",
    "from SynthSegAAA.brain_generator import BrainGenerator\n",
    "# mkdir\n",
    "os.makedirs(image_path, exist_ok=True)\n",
    "os.makedirs(label_path, exist_ok=True)\n",
    "label_files = os.listdir(combined_path)\n",
    "count = 0\n",
    "for label_file in label_files:\n",
    "    print(\"here\", os.path.join(combined_path, label_file))\n",
    "    brain_generator = BrainGenerator(os.path.join(combined_path, label_file))\n",
    "    for i in range(1):\n",
    "        image, label = brain_generator.generate_brain()\n",
    "        nib.save(\n",
    "            nib.Nifti1Image(image, np.eye(4)),\n",
    "            os.path.join(image_path, f\"aaa_{count:03d}_0000.nii.gz\"),\n",
    "        )\n",
    "        nib.save(\n",
    "            nib.Nifti1Image(label, np.eye(4)),\n",
    "            os.path.join(label_path, f\"aaa_{count:03d}.nii.gz\"),\n",
    "        )\n",
    "        count += 1"
   ]
  },
  {
   "cell_type": "markdown",
   "metadata": {},
   "source": [
    "# Inspection"
   ]
  },
  {
   "cell_type": "code",
   "execution_count": 2,
   "metadata": {},
   "outputs": [
    {
     "data": {
      "application/vnd.jupyter.widget-view+json": {
       "model_id": "1907fbfb39554e2d923be45441dc4fb0",
       "version_major": 2,
       "version_minor": 0
      },
      "text/plain": [
       "interactive(children=(IntSlider(value=0, description='slice_index_0', max=125), IntSlider(value=0, description…"
      ]
     },
     "metadata": {},
     "output_type": "display_data"
    }
   ],
   "source": [
    "\n",
    "from utils.check_image import check_image\n",
    "import nibabel as nib\n",
    "from utils.nrrd2nii import nrrd2nii\n",
    "\n",
    "\n",
    "label = nib.load(\"data/uwa_aaa_combined/Patient1_combined.nii.gz\").get_fdata()\n",
    "image = nrrd2nii(\"data/uwa_aaa/Patient1/Segmentation/CT_cropped.nrrd\").get_fdata()\n",
    "\n",
    "check_image(\n",
    "    [\n",
    "        {\"image\": label, \"title\": \"label\", \"is_label\": True},\n",
    "        {\"image\": image, \"title\": \"image\", \"is_label\": False},\n",
    "    ]\n",
    ")"
   ]
  },
  {
   "cell_type": "code",
   "execution_count": 2,
   "metadata": {},
   "outputs": [
    {
     "data": {
      "application/vnd.jupyter.widget-view+json": {
       "model_id": "65f1aa425faf4c07bb88248a335be4c1",
       "version_major": 2,
       "version_minor": 0
      },
      "text/plain": [
       "interactive(children=(IntSlider(value=0, description='slice_index_0', max=125), IntSlider(value=0, description…"
      ]
     },
     "metadata": {},
     "output_type": "display_data"
    }
   ],
   "source": [
    "\n",
    "from utils.check_image import check_image\n",
    "import nibabel as nib\n",
    "from utils.nrrd2nii import nrrd2nii\n",
    "\n",
    "\n",
    "label = nib.load(\"data/Dataset001_aaa/labelsTr/aaa_000.nii.gz\").get_fdata()\n",
    "image = nib.load(\"data/Dataset001_aaa/imagesTr/aaa_000_0000.nii.gz\").get_fdata()\n",
    "\n",
    "check_image(\n",
    "    [\n",
    "        {\"image\": label, \"title\": \"label\", \"is_label\": True},\n",
    "        {\"image\": image, \"title\": \"image\", \"is_label\": False},\n",
    "    ]\n",
    ")"
   ]
  }
 ],
 "metadata": {
  "kernelspec": {
   "display_name": "synth_seg_3.8",
   "language": "python",
   "name": "python3"
  },
  "language_info": {
   "codemirror_mode": {
    "name": "ipython",
    "version": 3
   },
   "file_extension": ".py",
   "mimetype": "text/x-python",
   "name": "python",
   "nbconvert_exporter": "python",
   "pygments_lexer": "ipython3",
   "version": "3.8.19"
  }
 },
 "nbformat": 4,
 "nbformat_minor": 2
}
