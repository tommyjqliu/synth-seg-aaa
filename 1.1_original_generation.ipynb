{
 "cells": [
  {
   "cell_type": "markdown",
   "metadata": {},
   "source": [
    "# Original SynthSeg\n",
    "env: python3.8 tensorflow"
   ]
  },
  {
   "cell_type": "markdown",
   "metadata": {},
   "source": [
    "# Generation"
   ]
  },
  {
   "cell_type": "code",
   "execution_count": 1,
   "metadata": {},
   "outputs": [
    {
     "name": "stderr",
     "output_type": "stream",
     "text": [
      "Using TensorFlow backend.\n"
     ]
    },
    {
     "name": "stdout",
     "output_type": "stream",
     "text": [
      "Compiling list of unique labels\n",
      "processing 1/1\n"
     ]
    },
    {
     "name": "stderr",
     "output_type": "stream",
     "text": [
      "2025-04-15 11:32:19.037194: I tensorflow/stream_executor/platform/default/dso_loader.cc:44] Successfully opened dynamic library libcuda.so.1\n",
      "2025-04-15 11:32:19.059109: E tensorflow/stream_executor/cuda/cuda_gpu_executor.cc:967] could not open file to read NUMA node: /sys/bus/pci/devices/0000:01:00.0/numa_node\n",
      "Your kernel may have been built without NUMA support.\n",
      "2025-04-15 11:32:19.059139: I tensorflow/core/common_runtime/gpu/gpu_device.cc:1561] Found device 0 with properties: \n",
      "pciBusID: 0000:01:00.0 name: NVIDIA GeForce RTX 3070 computeCapability: 8.6\n",
      "coreClock: 1.755GHz coreCount: 46 deviceMemorySize: 8.00GiB deviceMemoryBandwidth: 417.29GiB/s\n",
      "2025-04-15 11:32:19.059227: W tensorflow/stream_executor/platform/default/dso_loader.cc:55] Could not load dynamic library 'libcudart.so.10.1'; dlerror: libcudart.so.10.1: cannot open shared object file: No such file or directory\n",
      "2025-04-15 11:32:19.059266: W tensorflow/stream_executor/platform/default/dso_loader.cc:55] Could not load dynamic library 'libcublas.so.10'; dlerror: libcublas.so.10: cannot open shared object file: No such file or directory\n",
      "2025-04-15 11:32:19.075986: I tensorflow/stream_executor/platform/default/dso_loader.cc:44] Successfully opened dynamic library libcufft.so.10\n",
      "2025-04-15 11:32:19.076441: I tensorflow/stream_executor/platform/default/dso_loader.cc:44] Successfully opened dynamic library libcurand.so.10\n",
      "2025-04-15 11:32:19.076540: W tensorflow/stream_executor/platform/default/dso_loader.cc:55] Could not load dynamic library 'libcusolver.so.10'; dlerror: libcusolver.so.10: cannot open shared object file: No such file or directory\n",
      "2025-04-15 11:32:19.076571: W tensorflow/stream_executor/platform/default/dso_loader.cc:55] Could not load dynamic library 'libcusparse.so.10'; dlerror: libcusparse.so.10: cannot open shared object file: No such file or directory\n",
      "2025-04-15 11:32:19.076599: W tensorflow/stream_executor/platform/default/dso_loader.cc:55] Could not load dynamic library 'libcudnn.so.7'; dlerror: libcudnn.so.7: cannot open shared object file: No such file or directory\n",
      "2025-04-15 11:32:19.076604: W tensorflow/core/common_runtime/gpu/gpu_device.cc:1598] Cannot dlopen some GPU libraries. Please make sure the missing libraries mentioned above are installed properly if you would like to use GPU. Follow the guide at https://www.tensorflow.org/install/gpu for how to download and setup the required libraries for your platform.\n",
      "Skipping registering GPU devices...\n",
      "2025-04-15 11:32:19.077321: I tensorflow/core/platform/cpu_feature_guard.cc:143] Your CPU supports instructions that this TensorFlow binary was not compiled to use: AVX2 FMA\n",
      "2025-04-15 11:32:19.082148: I tensorflow/core/platform/profile_utils/cpu_utils.cc:102] CPU Frequency: 2495995000 Hz\n",
      "2025-04-15 11:32:19.082800: I tensorflow/compiler/xla/service/service.cc:168] XLA service 0x7fd534000b70 initialized for platform Host (this does not guarantee that XLA will be used). Devices:\n",
      "2025-04-15 11:32:19.082812: I tensorflow/compiler/xla/service/service.cc:176]   StreamExecutor device (0): Host, Default Version\n",
      "2025-04-15 11:32:19.083659: I tensorflow/core/common_runtime/gpu/gpu_device.cc:1102] Device interconnect StreamExecutor with strength 1 edge matrix:\n",
      "2025-04-15 11:32:19.083667: I tensorflow/core/common_runtime/gpu/gpu_device.cc:1108]      \n"
     ]
    }
   ],
   "source": [
    "import os\n",
    "import numpy as np\n",
    "import nibabel as nib\n",
    "from SynthSeg.brain_generator import BrainGenerator\n",
    "\n",
    "input_label_path = \"data/uwa_aaa_combined\"\n",
    "image_path = \"data/Dataset001_aaa/imagesTr\"\n",
    "label_path = \"data/Dataset001_aaa/labelsTr\"\n",
    "os.makedirs(image_path, exist_ok=True)\n",
    "os.makedirs(label_path, exist_ok=True)\n",
    "label_files = os.listdir(input_label_path)\n",
    "count = 0\n",
    "\n",
    "for label_file in label_files[:1]:\n",
    "    brain_generator = BrainGenerator(os.path.join(input_label_path, label_file))\n",
    "    for i in range(1):\n",
    "        image, label = brain_generator.generate_brain()\n",
    "        nib.save(\n",
    "            nib.Nifti1Image(image, np.eye(4)),\n",
    "            os.path.join(image_path, f\"aaa_{count:03d}_0000.nii.gz\"),\n",
    "        )\n",
    "        nib.save(\n",
    "            nib.Nifti1Image(label, np.eye(4)),\n",
    "            os.path.join(label_path, f\"aaa_{count:03d}.nii.gz\"),\n",
    "        )\n",
    "        count += 1"
   ]
  },
  {
   "cell_type": "markdown",
   "metadata": {},
   "source": [
    "# Inspection"
   ]
  },
  {
   "cell_type": "code",
   "execution_count": null,
   "metadata": {},
   "outputs": [
    {
     "data": {
      "application/vnd.jupyter.widget-view+json": {
       "model_id": "4e361be735f74044af5835b9083b8bd3",
       "version_major": 2,
       "version_minor": 0
      },
      "text/plain": [
       "interactive(children=(IntSlider(value=0, description='slice_index_0', max=429), IntSlider(value=0, description…"
      ]
     },
     "metadata": {},
     "output_type": "display_data"
    }
   ],
   "source": [
    "\n",
    "from utils.check_image import check_image\n",
    "import nibabel as nib\n",
    "from utils.nrrd2nii import nrrd2nii\n",
    "\n",
    "\n",
    "label = nib.load(\"data/Dataset001_aaa/labelsTr/aaa_003.nii.gz\").get_fdata()\n",
    "image = nib.load(\"data/Dataset001_aaa/imagesTr/aaa_003_0000.nii.gz\").get_fdata()\n",
    "\n",
    "check_image(\n",
    "    [\n",
    "        {\"image\": label, \"title\": \"label\", \"is_label\": True},\n",
    "        {\"image\": image, \"title\": \"image\", \"is_label\": False},\n",
    "    ]\n",
    ")"
   ]
  },
  {
   "cell_type": "code",
   "execution_count": 2,
   "metadata": {},
   "outputs": [
    {
     "data": {
      "text/plain": [
       "(232, 292, 430)"
      ]
     },
     "execution_count": 2,
     "metadata": {},
     "output_type": "execute_result"
    }
   ],
   "source": [
    "label.shape"
   ]
  }
 ],
 "metadata": {
  "kernelspec": {
   "display_name": "synth_seg_3.8",
   "language": "python",
   "name": "python3"
  },
  "language_info": {
   "codemirror_mode": {
    "name": "ipython",
    "version": 3
   },
   "file_extension": ".py",
   "mimetype": "text/x-python",
   "name": "python",
   "nbconvert_exporter": "python",
   "pygments_lexer": "ipython3",
   "version": "3.8.19"
  }
 },
 "nbformat": 4,
 "nbformat_minor": 2
}
