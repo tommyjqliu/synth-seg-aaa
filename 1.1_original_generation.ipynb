{
 "cells": [
  {
   "cell_type": "markdown",
   "metadata": {},
   "source": [
    "# Original SynthSeg\n",
    "env: python3.8 tensorflow"
   ]
  },
  {
   "cell_type": "markdown",
   "metadata": {},
   "source": [
    "# Generation"
   ]
  },
  {
   "cell_type": "code",
   "execution_count": 2,
   "metadata": {},
   "outputs": [
    {
     "name": "stderr",
     "output_type": "stream",
     "text": [
      "Using TensorFlow backend.\n"
     ]
    }
   ],
   "source": [
    "import os\n",
    "import numpy as np\n",
    "import nibabel as nib\n",
    "from SynthSeg.brain_generator import BrainGenerator\n",
    "from tqdm import tqdm\n",
    "\n",
    "np.random.seed(42)\n",
    "\n",
    "input_label_path = \"data/nnunet_raw/Dataset001_raw_aaa/labelsTr\"\n",
    "input_image_path = \"data/nnunet_raw/Dataset001_raw_aaa/imagesTr\"\n",
    "image_path = \"data/nnunet_raw/Dataset002_origin_synthseg/imagesTr\"\n",
    "label_path = \"data/nnunet_raw/Dataset002_origin_synthseg/labelsTr\"\n",
    "os.makedirs(image_path, exist_ok=True)\n",
    "os.makedirs(label_path, exist_ok=True)\n",
    "label_files = os.listdir(input_label_path)\n",
    "label_files.sort()\n",
    "selected_num = 2\n",
    "generate_times = 2\n",
    "count = 0\n"
   ]
  },
  {
   "cell_type": "code",
   "execution_count": null,
   "metadata": {},
   "outputs": [],
   "source": [
    "\n",
    "# Calculate total iterations for progress bar\n",
    "total_iterations = len(label_files[:selected_num]) * generate_times\n",
    "\n",
    "# Add tqdm progress bar\n",
    "with tqdm(total=total_iterations, desc=\"Generating brains\") as pbar:\n",
    "    for label_file in label_files[:selected_num]:\n",
    "        brain_generator = BrainGenerator(\n",
    "            os.path.join(input_label_path, label_file), \n",
    "        )\n",
    "        for i in range(generate_times):\n",
    "            image, label = brain_generator.generate_brain()\n",
    "            nib.save(\n",
    "                nib.Nifti1Image(image, np.eye(4)),\n",
    "                os.path.join(image_path, f\"aaa_{count:03d}_0000.nii.gz\"),\n",
    "            )\n",
    "            nib.save(\n",
    "                nib.Nifti1Image(label, np.eye(4)),\n",
    "                os.path.join(label_path, f\"aaa_{count:03d}.nii.gz\"),\n",
    "            )\n",
    "            count += 1\n",
    "            pbar.update(1)"
   ]
  },
  {
   "cell_type": "markdown",
   "metadata": {},
   "source": [
    "# Inspection"
   ]
  },
  {
   "cell_type": "code",
   "execution_count": 3,
   "metadata": {},
   "outputs": [
    {
     "data": {
      "application/vnd.jupyter.widget-view+json": {
       "model_id": "204b0f47827e4b4c95ce00e417984e6d",
       "version_major": 2,
       "version_minor": 0
      },
      "text/plain": [
       "interactive(children=(IntSlider(value=0, description='slice_index_0', max=99), IntSlider(value=0, description=…"
      ]
     },
     "metadata": {},
     "output_type": "display_data"
    }
   ],
   "source": [
    "\n",
    "from utils.check_image import check_image\n",
    "import nibabel as nib\n",
    "from utils.nrrd2nii import nrrd2nii\n",
    "\n",
    "\n",
    "label = nib.load(f\"{label_path}/aaa_001.nii.gz\").get_fdata()\n",
    "image = nib.load(f\"{image_path}/aaa_001_0000.nii.gz\").get_fdata()\n",
    "\n",
    "check_image(\n",
    "    [\n",
    "        {\"image\": label, \"title\": \"Synthetic Label\", \"is_label\": True},\n",
    "        {\"image\": image, \"title\": \"Synthetic Image\", \"is_label\": False},\n",
    "    ]\n",
    ")\n"
   ]
  },
  {
   "cell_type": "code",
   "execution_count": null,
   "metadata": {},
   "outputs": [
    {
     "data": {
      "application/vnd.jupyter.widget-view+json": {
       "model_id": "d8ba642d45c24ccc9f05b8ecbc2a0afc",
       "version_major": 2,
       "version_minor": 0
      },
      "text/plain": [
       "interactive(children=(IntSlider(value=0, description='slice_index_0', max=99), IntSlider(value=0, description=…"
      ]
     },
     "metadata": {},
     "output_type": "display_data"
    }
   ],
   "source": [
    "\n",
    "from utils.check_image import check_image\n",
    "import nibabel as nib\n",
    "from utils.nrrd2nii import nrrd2nii\n",
    "\n",
    "\n",
    "label = nib.load(f\"{input_label_path}/aaa_000.nii.gz\").get_fdata()\n",
    "image = nib.load(f\"{input_image_path}/aaa_000_0000.nii.gz\").get_fdata()\n",
    "\n",
    "check_image(\n",
    "    [\n",
    "        {\"image\": label, \"title\": \"Real Label\", \"is_label\": True},\n",
    "        {\"image\": image, \"title\": \"Real Image\", \"is_label\": False},\n",
    "    ]\n",
    ")\n"
   ]
  }
 ],
 "metadata": {
  "kernelspec": {
   "display_name": "synth_seg_3.8",
   "language": "python",
   "name": "python3"
  },
  "language_info": {
   "codemirror_mode": {
    "name": "ipython",
    "version": 3
   },
   "file_extension": ".py",
   "mimetype": "text/x-python",
   "name": "python",
   "nbconvert_exporter": "python",
   "pygments_lexer": "ipython3",
   "version": "3.8.19"
  }
 },
 "nbformat": 4,
 "nbformat_minor": 2
}
